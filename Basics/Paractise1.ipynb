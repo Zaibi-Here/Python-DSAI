{
 "cells": [
  {
   "cell_type": "code",
   "execution_count": 62,
   "id": "93db1eb6-16f7-4f6e-abb8-bba37d98104c",
   "metadata": {},
   "outputs": [
    {
     "name": "stdout",
     "output_type": "stream",
     "text": [
      "Shahzaib Raja\n"
     ]
    }
   ],
   "source": [
    "print(\"Shahzaib Raja\")"
   ]
  },
  {
   "cell_type": "markdown",
   "id": "a8b66667-2319-4552-9080-f64330943e21",
   "metadata": {},
   "source": [
    "From Here i Start Code"
   ]
  },
  {
   "cell_type": "code",
   "execution_count": 63,
   "id": "d2953090-0555-461c-a680-610652511d2e",
   "metadata": {},
   "outputs": [
    {
     "name": "stdout",
     "output_type": "stream",
     "text": [
      "This is Correct Statement\n"
     ]
    }
   ],
   "source": [
    "if 52>20:\n",
    "    print(\"This is Correct Statement\")\n",
    "else:    \n",
    "    print(\"This is not a Correct Statement\")        "
   ]
  },
  {
   "cell_type": "code",
   "execution_count": 64,
   "id": "4879e96a-7d9e-4dbe-941d-ed4903d2dbaf",
   "metadata": {},
   "outputs": [
    {
     "name": "stdout",
     "output_type": "stream",
     "text": [
      "53\n"
     ]
    }
   ],
   "source": [
    "x = 53\n",
    "print(x)"
   ]
  },
  {
   "cell_type": "code",
   "execution_count": 65,
   "id": "81104896-92fe-4527-abaf-88915c590be7",
   "metadata": {},
   "outputs": [
    {
     "data": {
      "text/plain": [
       "22164361129"
      ]
     },
     "execution_count": 65,
     "metadata": {},
     "output_type": "execute_result"
    }
   ],
   "source": [
    "# This is Just a Paractise Statement\n",
    "x*x*x*x*x*x"
   ]
  },
  {
   "cell_type": "code",
   "execution_count": 66,
   "id": "e4d8709d-8ca2-4081-9ea9-93e652758140",
   "metadata": {},
   "outputs": [
    {
     "name": "stdout",
     "output_type": "stream",
     "text": [
      "53\n",
      "Abdul Rafay Ather\n"
     ]
    }
   ],
   "source": [
    "print(x)\n",
    "x = \"Abdul Rafay Ather\"\n",
    "print(x)"
   ]
  },
  {
   "cell_type": "code",
   "execution_count": 67,
   "id": "0310e56b-3f24-4ad8-af77-7dc3d62beddb",
   "metadata": {},
   "outputs": [
    {
     "name": "stdout",
     "output_type": "stream",
     "text": [
      "3\n",
      "4\n",
      "54.0\n"
     ]
    }
   ],
   "source": [
    "x = str(3)\n",
    "y = int(4)\n",
    "z = float(54)\n",
    "print(x)\n",
    "print(y)\n",
    "print(z)"
   ]
  },
  {
   "cell_type": "code",
   "execution_count": 68,
   "id": "7f72870c-0fa1-4eb3-b6fb-69c7d37365af",
   "metadata": {},
   "outputs": [
    {
     "name": "stdout",
     "output_type": "stream",
     "text": [
      "<class 'str'>\n",
      "<class 'int'>\n",
      "<class 'float'>\n"
     ]
    }
   ],
   "source": [
    "print(type(x))\n",
    "print(type(y))\n",
    "print(type(z))"
   ]
  },
  {
   "cell_type": "code",
   "execution_count": 69,
   "id": "44cca094-0cc8-4a86-8a22-d03ddf6bf779",
   "metadata": {},
   "outputs": [
    {
     "name": "stdout",
     "output_type": "stream",
     "text": [
      "Water is the Best Source\n"
     ]
    }
   ],
   "source": [
    "print('Water is the Best Source')"
   ]
  },
  {
   "cell_type": "code",
   "execution_count": 70,
   "id": "7ece0888-8830-4418-9cf2-5aeb38725ab4",
   "metadata": {},
   "outputs": [
    {
     "name": "stdout",
     "output_type": "stream",
     "text": [
      "i_am_physics\n"
     ]
    }
   ],
   "source": [
    "i_am_physics = 37\n",
    "print('i_am_physics')"
   ]
  },
  {
   "cell_type": "code",
   "execution_count": 71,
   "id": "b6a491e1-70ce-4a62-8e3b-ab6422a77349",
   "metadata": {},
   "outputs": [
    {
     "name": "stdout",
     "output_type": "stream",
     "text": [
      "Orange\n",
      "Orange\n",
      "Orange\n"
     ]
    }
   ],
   "source": [
    "x = y = z = \"Orange\"\n",
    "print(x)\n",
    "print(y)\n",
    "print(z)"
   ]
  },
  {
   "cell_type": "code",
   "execution_count": 72,
   "id": "c01d2794-d553-4407-989c-46867f3eb811",
   "metadata": {},
   "outputs": [
    {
     "name": "stdout",
     "output_type": "stream",
     "text": [
      "['orange', 'Twitter', 'English']\n"
     ]
    }
   ],
   "source": [
    "fruits = [\"orange\",\"Twitter\",\"English\"]\n",
    "# x,y,z = fruits\n",
    "print(fruits)\n",
    "# print(y)\n",
    "# print(z)"
   ]
  },
  {
   "cell_type": "code",
   "execution_count": 73,
   "id": "4dd60486-8cdf-42ca-b103-346e15c65340",
   "metadata": {},
   "outputs": [
    {
     "name": "stdout",
     "output_type": "stream",
     "text": [
      "Python is awesome\n"
     ]
    }
   ],
   "source": [
    "x = \"Python\"\n",
    "y = \"is\"\n",
    "z = \"awesome\"\n",
    "print(x, y, z)"
   ]
  },
  {
   "cell_type": "code",
   "execution_count": 74,
   "id": "424ee846-40b0-4935-8e58-c0307ae51dc4",
   "metadata": {},
   "outputs": [
    {
     "name": "stdout",
     "output_type": "stream",
     "text": [
      "Pythonisawesome\n"
     ]
    }
   ],
   "source": [
    "x = \"Python\"\n",
    "y = \"is\"\n",
    "z = \"awesome\"\n",
    "print(x+y+z)"
   ]
  },
  {
   "cell_type": "code",
   "execution_count": 75,
   "id": "d0302997-c57e-4064-8bee-d32ef6f04f95",
   "metadata": {},
   "outputs": [
    {
     "name": "stdout",
     "output_type": "stream",
     "text": [
      "523 35\n"
     ]
    }
   ],
   "source": [
    "x = \"523\"\n",
    "y = \"35\"\n",
    "print(x,y)"
   ]
  },
  {
   "cell_type": "code",
   "execution_count": 76,
   "id": "3c8d6986-2db0-4072-95a8-25a191fb49ac",
   "metadata": {},
   "outputs": [
    {
     "name": "stdout",
     "output_type": "stream",
     "text": [
      "He is Shahzaib Raja\n"
     ]
    }
   ],
   "source": [
    "extra = \"Shahzaib Raja\"\n",
    "def my_func():\n",
    "    print(\"He is \"+ extra)\n",
    "\n",
    "my_func()"
   ]
  },
  {
   "cell_type": "code",
   "execution_count": 77,
   "id": "1442d380-dcd9-478c-a68f-e759f001245a",
   "metadata": {},
   "outputs": [
    {
     "name": "stdout",
     "output_type": "stream",
     "text": [
      "Python is fantastic\n",
      "Python is awesome\n"
     ]
    }
   ],
   "source": [
    "x = \"awesome\"\n",
    "\n",
    "def myfunc():\n",
    "  x = \"fantastic\"\n",
    "  print(\"Python is \" + x)\n",
    "\n",
    "myfunc()\n",
    "\n",
    "print(\"Python is \" + x)"
   ]
  },
  {
   "cell_type": "code",
   "execution_count": 78,
   "id": "79c3e12e-1aad-4587-af27-2aed771d8a3f",
   "metadata": {},
   "outputs": [
    {
     "name": "stdout",
     "output_type": "stream",
     "text": [
      "Python is fantastic\n"
     ]
    }
   ],
   "source": [
    "W = \"awesome\"\n",
    "\n",
    "def myfunc():\n",
    "  global z\n",
    "  z = \"fantastic\"\n",
    "\n",
    "myfunc()\n",
    "\n",
    "print(\"Python is \" + z)"
   ]
  },
  {
   "cell_type": "code",
   "execution_count": 79,
   "id": "22fe402c-5480-4084-b1b4-4232f7b73736",
   "metadata": {},
   "outputs": [
    {
     "name": "stdout",
     "output_type": "stream",
     "text": [
      "frozenset({'cherry', 'apple', 'banana'})\n"
     ]
    }
   ],
   "source": [
    "x = frozenset({\"apple\", \"banana\", \"cherry\"})\n",
    "l = []\n",
    "a= \"king\"\n",
    "l.append(x)\n",
    "\n",
    "print(x)"
   ]
  },
  {
   "cell_type": "code",
   "execution_count": 80,
   "id": "780c5598-9176-4564-9718-b297c92524c9",
   "metadata": {},
   "outputs": [
    {
     "name": "stdout",
     "output_type": "stream",
     "text": [
      "<class 'frozenset'>\n"
     ]
    }
   ],
   "source": [
    "x = frozenset({\"Ali\",\"Arshad\",\"Naveed\"})\n",
    "\n",
    "print(type(x))"
   ]
  },
  {
   "cell_type": "code",
   "execution_count": 81,
   "id": "41807005-c8e6-42d3-a621-ab701db4c031",
   "metadata": {},
   "outputs": [
    {
     "name": "stdout",
     "output_type": "stream",
     "text": [
      "<class 'complex'>\n"
     ]
    }
   ],
   "source": [
    "x = 1    # int\n",
    "y = 2.8  # float\n",
    "z = 1j   # complex\n",
    "print (type(z))"
   ]
  },
  {
   "cell_type": "code",
   "execution_count": 82,
   "id": "ec4ce6d1-58ff-4cd2-82e7-f30713bd5089",
   "metadata": {},
   "outputs": [
    {
     "name": "stdout",
     "output_type": "stream",
     "text": [
      "<class 'int'>\n",
      "<class 'complex'>\n"
     ]
    }
   ],
   "source": [
    "x = 53\n",
    "y = complex(x)\n",
    "print(type(x))\n",
    "print(type(y))"
   ]
  },
  {
   "cell_type": "markdown",
   "id": "278c2f56-e675-47be-8612-9e1da00231d1",
   "metadata": {},
   "source": [
    "Random Number Generator"
   ]
  },
  {
   "cell_type": "code",
   "execution_count": 83,
   "id": "2f8f5351-b465-4f18-aaab-7f630340a999",
   "metadata": {},
   "outputs": [
    {
     "name": "stdout",
     "output_type": "stream",
     "text": [
      "7\n"
     ]
    }
   ],
   "source": [
    "import random\n",
    "print(random.randrange(1,10))"
   ]
  },
  {
   "cell_type": "code",
   "execution_count": 84,
   "id": "7f30206b-e7aa-4300-a086-c32c64053ba6",
   "metadata": {},
   "outputs": [
    {
     "name": "stdout",
     "output_type": "stream",
     "text": [
      "056shahzaib3442\n"
     ]
    }
   ],
   "source": [
    "y = str(\"056shahzaib3442\")\n",
    "print(y)"
   ]
  },
  {
   "cell_type": "code",
   "execution_count": 85,
   "id": "96779201-fc8f-43b8-aab7-2e2d804a2e11",
   "metadata": {},
   "outputs": [
    {
     "name": "stdout",
     "output_type": "stream",
     "text": [
      "Lorem ipsum dolor sit amet,\n",
      "consectetur adipiscing elit,\n",
      "sed do eiusmod tempor incididunt\n",
      "ut labore et dolore magna aliqua.\n"
     ]
    }
   ],
   "source": [
    "a = \"\"\"Lorem ipsum dolor sit amet,\n",
    "consectetur adipiscing elit,\n",
    "sed do eiusmod tempor incididunt\n",
    "ut labore et dolore magna aliqua.\"\"\"\n",
    "print(a)"
   ]
  },
  {
   "cell_type": "code",
   "execution_count": 86,
   "id": "03cca743-41a2-4f57-83e6-4a4d752f2ab4",
   "metadata": {},
   "outputs": [
    {
     "name": "stdout",
     "output_type": "stream",
     "text": [
      "t\n"
     ]
    }
   ],
   "source": [
    "a = \"This is a Master Class\"\n",
    "print(a[13])"
   ]
  },
  {
   "cell_type": "code",
   "execution_count": 87,
   "id": "be6eeb7d-248a-4ffe-b6f3-9d2d54445570",
   "metadata": {},
   "outputs": [
    {
     "name": "stdout",
     "output_type": "stream",
     "text": [
      "b\n",
      "a\n",
      "n\n",
      "a\n",
      "n\n",
      "a\n",
      "s\n"
     ]
    }
   ],
   "source": [
    "for x in \"bananas\":\n",
    "    print(x)"
   ]
  },
  {
   "cell_type": "code",
   "execution_count": 88,
   "id": "8c679a22-5e8e-4ee5-9a34-a7cd5f91d5ca",
   "metadata": {},
   "outputs": [
    {
     "name": "stdout",
     "output_type": "stream",
     "text": [
      "17\n"
     ]
    }
   ],
   "source": [
    "x = \"Muhammad Shahaeer\"\n",
    "print(len(x))"
   ]
  },
  {
   "cell_type": "code",
   "execution_count": 89,
   "id": "fad790e0-91f6-4dfa-b1a8-3c16f76753e7",
   "metadata": {},
   "outputs": [
    {
     "name": "stdout",
     "output_type": "stream",
     "text": [
      "True\n"
     ]
    }
   ],
   "source": [
    "xxx = \"Muhammad Shahaeer\"\n",
    "print(\"Shah\" in xxx)"
   ]
  },
  {
   "cell_type": "code",
   "execution_count": 90,
   "id": "a196d7e5-1472-4a56-8765-aaf785349117",
   "metadata": {},
   "outputs": [
    {
     "name": "stdout",
     "output_type": "stream",
     "text": [
      "error\n"
     ]
    }
   ],
   "source": [
    "txt = \"The best things in life are free!\"\n",
    "if \"frvee\" in txt:\n",
    "  print(\"Yes, 'free' is present.\")\n",
    "else:\n",
    "    print(\"error\")"
   ]
  },
  {
   "cell_type": "code",
   "execution_count": 91,
   "id": "97ca60b8-9af7-45a0-898c-c7d3514b83a4",
   "metadata": {},
   "outputs": [
    {
     "name": "stdout",
     "output_type": "stream",
     "text": [
      "True\n"
     ]
    }
   ],
   "source": [
    "txt = \"The best things in life are free!\"\n",
    "print(\"expensive\" not in txt)"
   ]
  },
  {
   "cell_type": "code",
   "execution_count": 92,
   "id": "01054044-c3e0-4f55-95d4-22285591e699",
   "metadata": {},
   "outputs": [
    {
     "name": "stdout",
     "output_type": "stream",
     "text": [
      "hammad\n"
     ]
    }
   ],
   "source": [
    "x = \"Muhammad Shahaeer\"\n",
    "print(x[2:8])"
   ]
  },
  {
   "cell_type": "code",
   "execution_count": 93,
   "id": "df9893ca-d999-47f7-bea2-772fc406c714",
   "metadata": {},
   "outputs": [
    {
     "name": "stdout",
     "output_type": "stream",
     "text": [
      "d Sha\n"
     ]
    }
   ],
   "source": [
    "x = \"Muhammad Shahaeer\"\n",
    "print(x[-10:-5])"
   ]
  },
  {
   "cell_type": "code",
   "execution_count": 94,
   "id": "0525ad67-327d-4db7-acec-ce53a3c3e37b",
   "metadata": {},
   "outputs": [
    {
     "name": "stdout",
     "output_type": "stream",
     "text": [
      "donkey raja!\n"
     ]
    }
   ],
   "source": [
    "a = \"Donkey Raja!\"\n",
    "print(a.lower())"
   ]
  },
  {
   "cell_type": "code",
   "execution_count": 95,
   "id": "dc0a5c76-454c-4688-9334-60a8a37f3918",
   "metadata": {},
   "outputs": [
    {
     "name": "stdout",
     "output_type": "stream",
     "text": [
      "Donkey Raja! is the KING\n"
     ]
    }
   ],
   "source": [
    "a = \"Donkey Raja! is the KING\"\n",
    "print(a.strip())"
   ]
  },
  {
   "cell_type": "code",
   "execution_count": 96,
   "id": "160b1abe-4a15-440e-9751-47c79bd9f9a0",
   "metadata": {},
   "outputs": [
    {
     "name": "stdout",
     "output_type": "stream",
     "text": [
      "Donkey Malik! is the KING\n"
     ]
    }
   ],
   "source": [
    "a = \"Donkey Raja! is the KING\"\n",
    "print(a.replace(\"Raja\",\"Malik\"))"
   ]
  },
  {
   "cell_type": "code",
   "execution_count": 97,
   "id": "07f0179b-91fc-4c45-a0fd-b3b5af1827f5",
   "metadata": {},
   "outputs": [
    {
     "name": "stdout",
     "output_type": "stream",
     "text": [
      "['Donkey', 'Raja!', ' is', ' the', ' KING', '']\n"
     ]
    }
   ],
   "source": [
    "a = \"Donkey$Raja!$ is$ the$ KING$\"\n",
    "print(a.split(\"$\"))"
   ]
  },
  {
   "cell_type": "code",
   "execution_count": 98,
   "id": "5008d04b-b781-4ea2-ae5d-d07166dd5f27",
   "metadata": {},
   "outputs": [
    {
     "name": "stdout",
     "output_type": "stream",
     "text": [
      "Muhammad   ZAIBI\n"
     ]
    }
   ],
   "source": [
    "x = \"Muhammad\"\n",
    "y = \"ZAIBI\"\n",
    "\n",
    "print(x,\" \",y)"
   ]
  },
  {
   "cell_type": "code",
   "execution_count": 99,
   "id": "b026a449-c116-4d77-ad64-36becec7a670",
   "metadata": {},
   "outputs": [
    {
     "name": "stdout",
     "output_type": "stream",
     "text": [
      "Shahzaib Age is 19\n"
     ]
    }
   ],
   "source": [
    "f  = 19\n",
    "txt = \"Shahzaib Age is \" + str(f)\n",
    "print(txt)"
   ]
  },
  {
   "cell_type": "code",
   "execution_count": 100,
   "id": "eea1bf84-1528-4f29-96fe-47612cddce5a",
   "metadata": {},
   "outputs": [
    {
     "name": "stdout",
     "output_type": "stream",
     "text": [
      "The price is 59 dollars\n"
     ]
    }
   ],
   "source": [
    "price = 59\n",
    "txt = f\"The price is {price} dollars\"\n",
    "print(txt)"
   ]
  },
  {
   "cell_type": "code",
   "execution_count": 101,
   "id": "b991cfe1-719a-488b-ac78-eb9bcd4fabcc",
   "metadata": {},
   "outputs": [
    {
     "name": "stdout",
     "output_type": "stream",
     "text": [
      "The price is 59.00 dollars\n"
     ]
    }
   ],
   "source": [
    "price = 59\n",
    "txt = f\"The price is {price:.2f} dollars\"\n",
    "print(txt)"
   ]
  },
  {
   "cell_type": "code",
   "execution_count": 102,
   "id": "e1e1abac-888a-4143-afc3-212e8f9bd8a1",
   "metadata": {},
   "outputs": [
    {
     "name": "stdout",
     "output_type": "stream",
     "text": [
      "The price is 59 + 500\n"
     ]
    }
   ],
   "source": [
    "price = 59\n",
    "txt = f\"The price is {price} + {100*5}\"\n",
    "print(txt)"
   ]
  },
  {
   "cell_type": "code",
   "execution_count": 103,
   "id": "46bf70ea-b235-4356-b0bc-44fe7282bfb1",
   "metadata": {},
   "outputs": [
    {
     "name": "stdout",
     "output_type": "stream",
     "text": [
      "This is a \"Software\" Book\n"
     ]
    }
   ],
   "source": [
    "txt = \"This is a \\\"Software\\\" Book\"\n",
    "print(txt)"
   ]
  },
  {
   "cell_type": "code",
   "execution_count": 104,
   "id": "27fb701e-4a77-4279-94f2-4f101fff24b3",
   "metadata": {},
   "outputs": [
    {
     "name": "stdout",
     "output_type": "stream",
     "text": [
      "For only 49.00 dollars!\n"
     ]
    }
   ],
   "source": [
    "txt = \"For only {price:.2f} dollars!\"\n",
    "print(txt.format(price = 49))"
   ]
  },
  {
   "cell_type": "code",
   "execution_count": 105,
   "id": "1fb9202c-99c5-49e1-a892-d9c0cb8e6fac",
   "metadata": {},
   "outputs": [
    {
     "name": "stdout",
     "output_type": "stream",
     "text": [
      "True\n"
     ]
    }
   ],
   "source": [
    "print (10>9)"
   ]
  },
  {
   "cell_type": "code",
   "execution_count": 106,
   "id": "fb9bf8ca-43e6-4a39-b648-201f750f555c",
   "metadata": {},
   "outputs": [
    {
     "data": {
      "text/plain": [
       "True"
      ]
     },
     "execution_count": 106,
     "metadata": {},
     "output_type": "execute_result"
    }
   ],
   "source": [
    "bool(\"abc\")\n",
    "bool({})\n",
    "bool([\"apple\", \"cherry\", \"banana\"])"
   ]
  },
  {
   "cell_type": "code",
   "execution_count": 107,
   "id": "38a4b8b3-9447-4fbc-89c9-85d1d3bdad23",
   "metadata": {},
   "outputs": [
    {
     "name": "stdout",
     "output_type": "stream",
     "text": [
      "False\n"
     ]
    }
   ],
   "source": [
    "class myclass():\n",
    "  def __len__(self):\n",
    "    return 0\n",
    "\n",
    "myobj = myclass()\n",
    "print(bool(myobj))"
   ]
  },
  {
   "cell_type": "code",
   "execution_count": 108,
   "id": "c08561a8-d194-4a61-b96c-88242e9978ef",
   "metadata": {},
   "outputs": [
    {
     "name": "stdout",
     "output_type": "stream",
     "text": [
      "False\n"
     ]
    }
   ],
   "source": [
    "def my_func():\n",
    "    return False\n",
    "print(my_func())"
   ]
  },
  {
   "cell_type": "code",
   "execution_count": 109,
   "id": "fb2867b3-1614-4ab8-85c1-d5beea149542",
   "metadata": {},
   "outputs": [
    {
     "name": "stdout",
     "output_type": "stream",
     "text": [
      "False\n"
     ]
    }
   ],
   "source": [
    "x = 200\n",
    "print(isinstance(x, str))"
   ]
  },
  {
   "cell_type": "code",
   "execution_count": 110,
   "id": "4ebbb70e-23c1-4664-9956-d62f81560bbd",
   "metadata": {},
   "outputs": [
    {
     "name": "stdout",
     "output_type": "stream",
     "text": [
      "256\n"
     ]
    }
   ],
   "source": [
    "print(2 ** 8) \n",
    "# Power"
   ]
  },
  {
   "cell_type": "code",
   "execution_count": 111,
   "id": "9b20f31c-10d1-46bf-b9b9-64f6c59f1a1d",
   "metadata": {},
   "outputs": [
    {
     "name": "stdout",
     "output_type": "stream",
     "text": [
      "['India', 'aMERICA', 'Japan', 'Pakistan']\n"
     ]
    }
   ],
   "source": [
    "mylist = [\"India\",\"aMERICA\",\"Japan\",\"Pakistan\"]\n",
    "print(mylist)"
   ]
  },
  {
   "cell_type": "code",
   "execution_count": 112,
   "id": "d83fc224-b212-45ff-b2c5-3c606c554ef9",
   "metadata": {},
   "outputs": [
    {
     "name": "stdout",
     "output_type": "stream",
     "text": [
      "Pakistan\n"
     ]
    }
   ],
   "source": [
    "print(mylist[-1])"
   ]
  },
  {
   "cell_type": "code",
   "execution_count": 113,
   "id": "0956916f-c8dd-4d4c-885f-fe064d1c4229",
   "metadata": {},
   "outputs": [
    {
     "name": "stdout",
     "output_type": "stream",
     "text": [
      "Available Sir!\n"
     ]
    }
   ],
   "source": [
    "mylist = [\"India\",\"aMERICA\",\"Japan\",\"Pakistan\"]\n",
    "if \"Japan\" in mylist:\n",
    "    print(\"Available Sir!\")"
   ]
  },
  {
   "cell_type": "code",
   "execution_count": 114,
   "id": "34f80023-7baa-444e-a16c-c30157cc1eaf",
   "metadata": {},
   "outputs": [
    {
     "name": "stdout",
     "output_type": "stream",
     "text": [
      "['India', 'aMERICA', 'Palestine', 'Pakistan']\n"
     ]
    }
   ],
   "source": [
    "list = [\"India\",\"aMERICA\",\"Japan\",\"Pakistan\"]\n",
    "list[2] = \"Palestine\"\n",
    "print(list)"
   ]
  },
  {
   "cell_type": "code",
   "execution_count": 115,
   "id": "85d27bd7-e149-4bf8-93d0-c3bf373ff3c2",
   "metadata": {},
   "outputs": [
    {
     "name": "stdout",
     "output_type": "stream",
     "text": [
      "['India', 'Palestime', 'aMERICA', 'Japan', 'Pakistan']\n"
     ]
    }
   ],
   "source": [
    "list = [\"India\",\"aMERICA\",\"Japan\",\"Pakistan\"]\n",
    "list.insert(-3,\"Palestime\")\n",
    "print(list)"
   ]
  },
  {
   "cell_type": "code",
   "execution_count": 116,
   "id": "d9e3c360-6f31-4b2c-9ed2-ad4d37d0db1a",
   "metadata": {},
   "outputs": [
    {
     "name": "stdout",
     "output_type": "stream",
     "text": [
      "['apple', 'banana', 'cherry', 'mango', 'pineapple', 'papaya']\n"
     ]
    }
   ],
   "source": [
    "thislist = [\"apple\", \"banana\", \"cherry\"]\n",
    "Mark = [\"mango\", \"pineapple\", \"papaya\"]\n",
    "thislist.extend(Mark)\n",
    "print(thislist)"
   ]
  },
  {
   "cell_type": "code",
   "execution_count": 117,
   "id": "052bafdb-38b2-4e0f-b730-fc26b7d6d893",
   "metadata": {},
   "outputs": [
    {
     "name": "stdout",
     "output_type": "stream",
     "text": [
      "['India', 'aMERICA', 'Pakistan', 'Japan', 'America']\n"
     ]
    }
   ],
   "source": [
    "list = [\"India\",\"aMERICA\",\"Japan\",\"Pakistan\",\"Japan\",\"America\"]\n",
    "list.remove(\"Japan\")\n",
    "print(list)"
   ]
  },
  {
   "cell_type": "code",
   "execution_count": 118,
   "id": "edd98f5b-75e5-4d42-9af6-1a2e63dd1f2e",
   "metadata": {},
   "outputs": [
    {
     "name": "stdout",
     "output_type": "stream",
     "text": [
      "['India', 'aMERICA', 'Japan', 'Pakistan', 'Japan']\n"
     ]
    }
   ],
   "source": [
    "list = [\"India\",\"aMERICA\",\"Japan\",\"Pakistan\",\"Japan\",\"America\"]\n",
    "list.pop()\n",
    "print(list)"
   ]
  },
  {
   "cell_type": "code",
   "execution_count": 119,
   "id": "fb18c4f2-1e67-4b90-9a5e-01799ae4c654",
   "metadata": {},
   "outputs": [
    {
     "name": "stdout",
     "output_type": "stream",
     "text": [
      "<class 'list'>\n"
     ]
    }
   ],
   "source": [
    "list = [\"India\",\"aMERICA\",\"Japan\",\"Pakistan\",\"Japan\",\"America\"]\n",
    "del list\n",
    "print(list)"
   ]
  },
  {
   "cell_type": "code",
   "execution_count": 120,
   "id": "bd8515ba-ad29-4a1b-9865-a3f7686bc8ed",
   "metadata": {},
   "outputs": [
    {
     "name": "stdout",
     "output_type": "stream",
     "text": [
      "[]\n"
     ]
    }
   ],
   "source": [
    "list = [\"India\",\"aMERICA\",\"Japan\",\"Pakistan\",\"Japan\",\"America\"]\n",
    "list.clear()\n",
    "print(list)"
   ]
  },
  {
   "cell_type": "code",
   "execution_count": 121,
   "id": "098f9f9d-212a-49d0-a56e-3e64c2a4bc99",
   "metadata": {},
   "outputs": [
    {
     "name": "stdout",
     "output_type": "stream",
     "text": [
      "India\n",
      "aMERICA\n",
      "Japan\n",
      "Pakistan\n",
      "Japan\n",
      "America\n"
     ]
    }
   ],
   "source": [
    "list = [\"India\",\"aMERICA\",\"Japan\",\"Pakistan\",\"Japan\",\"America\"]\n",
    "for x in list:\n",
    "    print(x)"
   ]
  },
  {
   "cell_type": "code",
   "execution_count": 122,
   "id": "47e5e1b1-a68e-48fe-9329-a1a798b840db",
   "metadata": {},
   "outputs": [
    {
     "name": "stdout",
     "output_type": "stream",
     "text": [
      "India\n",
      "aMERICA\n",
      "Japan\n",
      "Pakistan\n",
      "Japan\n",
      "America\n"
     ]
    }
   ],
   "source": [
    "list = [\"India\",\"aMERICA\",\"Japan\",\"Pakistan\",\"Japan\",\"America\"]     #ForLoop\n",
    "for x in range(len(list)):\n",
    "    print(list[x])"
   ]
  },
  {
   "cell_type": "code",
   "execution_count": 123,
   "id": "fc7cee74-5169-446d-9c06-d4186fad03a7",
   "metadata": {},
   "outputs": [
    {
     "name": "stdout",
     "output_type": "stream",
     "text": [
      "Haider\n",
      "RAFAY\n",
      "Shaheer\n",
      "Shahzaib\n"
     ]
    }
   ],
   "source": [
    "list = [\"Haider\",\"RAFAY\",\"Shaheer\",\"Shahzaib\"]  #While LOOP\n",
    "i = 0\n",
    "while i < len(list):\n",
    " print(list[i])\n",
    " i= i+1"
   ]
  },
  {
   "cell_type": "code",
   "execution_count": 124,
   "id": "6d03dd1f-76f7-4068-9d2b-3c448dd1d0fc",
   "metadata": {},
   "outputs": [
    {
     "name": "stdout",
     "output_type": "stream",
     "text": [
      "Haider\n",
      "RAFAY\n",
      "Shaheer\n",
      "Shahzaib\n"
     ]
    },
    {
     "data": {
      "text/plain": [
       "[None, None, None, None]"
      ]
     },
     "execution_count": 124,
     "metadata": {},
     "output_type": "execute_result"
    }
   ],
   "source": [
    "list = [\"Haider\",\"RAFAY\",\"Shaheer\",\"Shahzaib\"]\n",
    "[print(x) for x in list]"
   ]
  },
  {
   "cell_type": "code",
   "execution_count": 125,
   "id": "fcb7bf37-828b-4b16-bdf8-afd82dbf7309",
   "metadata": {},
   "outputs": [
    {
     "name": "stdout",
     "output_type": "stream",
     "text": [
      "['RAFAY']\n"
     ]
    }
   ],
   "source": [
    "list = [\"Haider\",\"RAFAY\",\"Shaheer\",\"Shahzaib\"]\n",
    "newlist = []\n",
    "\n",
    "for x in list:\n",
    "    if \"F\" in x:\n",
    "        newlist.append(x)\n",
    "print(newlist)\n",
    "# Only Prints Words having F in it\n"
   ]
  },
  {
   "cell_type": "code",
   "execution_count": 126,
   "id": "f4897f4a-0590-4a47-b684-fee28998f874",
   "metadata": {},
   "outputs": [
    {
     "name": "stdout",
     "output_type": "stream",
     "text": [
      "['hello', 'hello', 'hello', 'hello']\n"
     ]
    }
   ],
   "source": [
    "# newlist = [for x in x range(10) if x > 5]\n",
    "list = [\"Haider\",\"RAFAY\",\"Shaheer\",\"Shahzaib\"]\n",
    "# newlist = [x.upper() for x in list ]\n",
    "newlist = ['hello' for x in list]\n",
    "print(newlist)"
   ]
  },
  {
   "cell_type": "code",
   "execution_count": 127,
   "id": "d18e56a9-d2c9-4127-bbaf-814885ee6306",
   "metadata": {},
   "outputs": [
    {
     "name": "stdout",
     "output_type": "stream",
     "text": [
      "[87, 76, 50, 45, 45, 34, 34, 23, 12]\n"
     ]
    }
   ],
   "source": [
    "list = [50,45,34,23,12,45,76,87,34]            #Sorting the List\n",
    "list.sort(reverse = True)           # (reverse = True)\n",
    "print(list)"
   ]
  },
  {
   "cell_type": "code",
   "execution_count": 128,
   "id": "708d6131-5315-4b6c-a14f-574e9b865b23",
   "metadata": {},
   "outputs": [
    {
     "name": "stdout",
     "output_type": "stream",
     "text": [
      "['banana', 'cherry', 'Kiwi', 'Orange']\n"
     ]
    }
   ],
   "source": [
    "thislist = [\"banana\", \"Orange\", \"Kiwi\", \"cherry\"]\n",
    "thislist.sort(key = str.lower)\n",
    "print(thislist)"
   ]
  },
  {
   "cell_type": "code",
   "execution_count": 129,
   "id": "b141ee54-a9c0-4ca3-b386-dfcb072b97f6",
   "metadata": {},
   "outputs": [
    {
     "name": "stdout",
     "output_type": "stream",
     "text": [
      "['apple', 'banana', 'cherry']\n"
     ]
    }
   ],
   "source": [
    "thislist = [\"apple\", \"banana\", \"cherry\"]\n",
    "mylist = thislist.copy()\n",
    "print(mylist)"
   ]
  },
  {
   "cell_type": "code",
   "execution_count": 130,
   "id": "5c08acc1-aa22-457e-975c-78c5e30b9b04",
   "metadata": {},
   "outputs": [
    {
     "name": "stdout",
     "output_type": "stream",
     "text": [
      "['apple', 'banana', 'cherry']\n"
     ]
    }
   ],
   "source": [
    "x = []\n",
    "x = mylist\n",
    "print(x)"
   ]
  },
  {
   "cell_type": "code",
   "execution_count": 131,
   "id": "ec635762-13ce-4231-a944-80403f9d5764",
   "metadata": {},
   "outputs": [
    {
     "name": "stdout",
     "output_type": "stream",
     "text": [
      "['apple', 'banana', 'cherry']\n"
     ]
    }
   ],
   "source": [
    "thislist = [\"apple\", \"banana\", \"cherry\"]\n",
    "mylist = thislist[:]\n",
    "print(mylist)\n",
    "\n",
    "# Also Used that\n",
    "# thislist = [\"apple\", \"banana\", \"cherry\"]\n",
    "# mylist = thislist[:]\n",
    "# print(mylist)"
   ]
  },
  {
   "cell_type": "code",
   "execution_count": 132,
   "id": "5270ca15-c847-4dcb-b1c4-9f7fab23330d",
   "metadata": {},
   "outputs": [
    {
     "name": "stdout",
     "output_type": "stream",
     "text": [
      "['Sweet', 'Orange', 'Cat', 'Banana', 43, 23, 34, 45]\n"
     ]
    }
   ],
   "source": [
    "list1 = [\"Sweet\",\"Orange\",\"Cat\",\"Banana\"]\n",
    "list2 = [43,23,34,45]\n",
    "\n",
    "for x in list2:\n",
    "    list1.append(x)\n",
    "\n",
    "print(list1)"
   ]
  },
  {
   "cell_type": "code",
   "execution_count": 133,
   "id": "587fc4f8-e380-48fc-ac84-bbf841a885e6",
   "metadata": {},
   "outputs": [
    {
     "name": "stdout",
     "output_type": "stream",
     "text": [
      "('Sweet', 'Orange', 'Cat', 'Banana')\n"
     ]
    }
   ],
   "source": [
    "xx = (\"Sweet\",\"Orange\",\"Cat\",\"Banana\")\n",
    "print(xx)"
   ]
  },
  {
   "cell_type": "code",
   "execution_count": 134,
   "id": "2f0028f9-a960-4235-964d-e16e2da875c5",
   "metadata": {},
   "outputs": [
    {
     "name": "stdout",
     "output_type": "stream",
     "text": [
      "5\n"
     ]
    }
   ],
   "source": [
    "thistuple = (\"apple\", \"banana\", \"cherry\" , \"Physics\", \"Taple\")\n",
    "print(len(thistuple))"
   ]
  },
  {
   "cell_type": "code",
   "execution_count": 135,
   "id": "d0fb21a8-7424-43f5-908d-3bf669c75926",
   "metadata": {},
   "outputs": [
    {
     "name": "stdout",
     "output_type": "stream",
     "text": [
      "5\n"
     ]
    }
   ],
   "source": [
    "tuple1 = (\"abc\", 34, True, 40, \"male\")\n",
    "print(len(tuple1))"
   ]
  },
  {
   "cell_type": "code",
   "execution_count": 136,
   "id": "3696ad93-ddb2-4613-a5b6-5718bb915900",
   "metadata": {},
   "outputs": [
    {
     "name": "stdout",
     "output_type": "stream",
     "text": [
      "('apple', 'banana', 'cherry')\n"
     ]
    }
   ],
   "source": [
    "thistuple = tuple((\"apple\", \"banana\", \"cherry\")) # note the double round-brackets\n",
    "print(thistuple)"
   ]
  },
  {
   "cell_type": "code",
   "execution_count": 137,
   "id": "b28755ee-52eb-4ab6-ba94-1da31b0a92ef",
   "metadata": {},
   "outputs": [
    {
     "name": "stdout",
     "output_type": "stream",
     "text": [
      "banana\n"
     ]
    }
   ],
   "source": [
    "thistuple = (\"apple\", \"banana\", \"cherry\")\n",
    "print(thistuple[1])"
   ]
  },
  {
   "cell_type": "code",
   "execution_count": 138,
   "id": "d5b71369-d92b-401a-80ba-978071cb7930",
   "metadata": {},
   "outputs": [
    {
     "name": "stdout",
     "output_type": "stream",
     "text": [
      "cherry\n"
     ]
    }
   ],
   "source": [
    "thistuple = (\"apple\", \"banana\", \"cherry\")\n",
    "print(thistuple[-1])"
   ]
  },
  {
   "cell_type": "code",
   "execution_count": 139,
   "id": "547881d7-b016-49f5-b98d-ab5c5912cef5",
   "metadata": {},
   "outputs": [
    {
     "name": "stdout",
     "output_type": "stream",
     "text": [
      "Physics\n"
     ]
    }
   ],
   "source": [
    "thistuple = (\"Twitter\",\"Install\", \"Physics\")\n",
    "print(thistuple[2])"
   ]
  },
  {
   "cell_type": "code",
   "execution_count": 140,
   "id": "7cc1bc70-d074-46a3-acb8-6e4554f3deae",
   "metadata": {},
   "outputs": [
    {
     "name": "stdout",
     "output_type": "stream",
     "text": [
      "('cherry', 'orange', 'kiwi')\n"
     ]
    }
   ],
   "source": [
    "thistuple = (\"apple\", \"banana\", \"cherry\", \"orange\", \"kiwi\", \"melon\", \"mango\")\n",
    "print(thistuple[2:5])"
   ]
  },
  {
   "cell_type": "code",
   "execution_count": 141,
   "id": "1eb2ccae-beb6-474d-8152-2284158de9ab",
   "metadata": {},
   "outputs": [
    {
     "name": "stdout",
     "output_type": "stream",
     "text": [
      "('apple', 'banana', 'cherry', 'orange')\n"
     ]
    }
   ],
   "source": [
    "thistuple = (\"apple\", \"banana\", \"cherry\", \"orange\", \"kiwi\", \"melon\", \"mango\")\n",
    "print(thistuple[:4])"
   ]
  },
  {
   "cell_type": "code",
   "execution_count": 142,
   "id": "47b55b1a-6255-4e75-b0bf-61eaaafda091",
   "metadata": {},
   "outputs": [
    {
     "name": "stdout",
     "output_type": "stream",
     "text": [
      "Yes, 'apple' is in the fruits tuple\n"
     ]
    }
   ],
   "source": [
    "thistuple = (\"apple\", \"banana\", \"cherry\")\n",
    "if \"apple\" in thistuple:\n",
    "  print(\"Yes, 'apple' is in the fruits tuple\")"
   ]
  },
  {
   "cell_type": "code",
   "execution_count": 161,
   "id": "77c48ca7-46cf-4688-b338-d01baf2e55f0",
   "metadata": {},
   "outputs": [
    {
     "name": "stdout",
     "output_type": "stream",
     "text": [
      "Twitter star indian\n"
     ]
    }
   ],
   "source": [
    "xy = (\"Twitter\",\"star\",\"indian\")   #Unpacking a Tuple\n",
    "(pak,india,xx) = xy\n",
    "print (pak,india,xx)"
   ]
  },
  {
   "cell_type": "code",
   "execution_count": 164,
   "id": "295949fd-67b3-40ad-a50a-7b1accd42268",
   "metadata": {},
   "outputs": [
    {
     "name": "stdout",
     "output_type": "stream",
     "text": [
      "('Twitter', 'star', 'indian')\n",
      "('Twitter', 'star', 'indian')\n",
      "('Twitter', 'star', 'indian')\n"
     ]
    }
   ],
   "source": [
    "xy = (\"Twitter\",\"star\",\"indian\")   #Loop a Tuple\n",
    "for x in xy:\n",
    "    print(xy)"
   ]
  },
  {
   "cell_type": "code",
   "execution_count": 168,
   "id": "b6d0dc26-86b9-47fe-abc1-f399b2d98a69",
   "metadata": {},
   "outputs": [
    {
     "name": "stdout",
     "output_type": "stream",
     "text": [
      "('Twitter', 'star', 'indian')\n",
      "('Twitter', 'star', 'indian')\n",
      "('Twitter', 'star', 'indian')\n"
     ]
    }
   ],
   "source": [
    "#Loop Through the Index Numbers\n",
    "xy = (\"Twitter\",\"star\",\"indian\")\n",
    "for x in range(len(xy)):\n",
    "    print(xy)"
   ]
  },
  {
   "cell_type": "code",
   "execution_count": 175,
   "id": "c36ebe8d-4871-4332-b3d6-bcfb331ee654",
   "metadata": {},
   "outputs": [
    {
     "name": "stdout",
     "output_type": "stream",
     "text": [
      "4\n"
     ]
    }
   ],
   "source": [
    "xy = (3,43,2,21,543,6,5,74,5,8,9,4,39,9,9,9,4) #count in Python\n",
    "y = xy.count(9)\n",
    "print(y)"
   ]
  },
  {
   "cell_type": "code",
   "execution_count": 9,
   "id": "3eaf4382-ce88-4096-9a26-d479023ef974",
   "metadata": {},
   "outputs": [
    {
     "name": "stdout",
     "output_type": "stream",
     "text": [
      "{0, 'indian', 1, 'Twitter', 'star'}\n"
     ]
    }
   ],
   "source": [
    "xyz = {\"Twitter\",\"star\",\"indian\",\"star\",0,1}\n",
    "print(xyz)"
   ]
  },
  {
   "cell_type": "code",
   "execution_count": 17,
   "id": "a0ff9bf2-e421-4ba5-914f-cf4cd213741f",
   "metadata": {},
   "outputs": [
    {
     "name": "stdout",
     "output_type": "stream",
     "text": [
      "False\n"
     ]
    }
   ],
   "source": [
    "#Finds out Not Available\n",
    "xyz = {\"Twitter\",\"star\",True,False,0,1,\"star\"}\n",
    "print(\"star\" not in xyz)"
   ]
  },
  {
   "cell_type": "code",
   "execution_count": 32,
   "id": "3b4b9f4e-20de-46ee-a011-7690a0fe6329",
   "metadata": {},
   "outputs": [
    {
     "name": "stdout",
     "output_type": "stream",
     "text": [
      "{'star'}\n"
     ]
    }
   ],
   "source": [
    "xyz1 = {\"Twitter\",\"star\",\"star\"}\n",
    "xyz2 = {\"Twitter\",\"stari\",\"Askar\"}\n",
    "# xyz1.union(xyz2)\n",
    "# # xyz1.update(xyz2)\n",
    "# xyz3 = xyz1.intersection(xyz2)\n",
    "xyz3 = xyz1.difference(xyz2)\n",
    "print(xyz3)"
   ]
  },
  {
   "cell_type": "markdown",
   "id": "aabdbbf3-c485-4659-bb03-5075a11ba622",
   "metadata": {},
   "source": [
    "Python Dictionaries\n"
   ]
  },
  {
   "cell_type": "code",
   "execution_count": 33,
   "id": "10675d55-6ecc-4610-9351-73e8534995ad",
   "metadata": {},
   "outputs": [
    {
     "name": "stdout",
     "output_type": "stream",
     "text": [
      "{'elon': 'Twitter', 'Mark': 'facebook', 'Larry': 'Google'}\n"
     ]
    }
   ],
   "source": [
    "dd = {\"elon\":\"Twitter\",\"Mark\":\"facebook\",\"Larry\":\"Google\"}\n",
    "print(dd)"
   ]
  },
  {
   "cell_type": "code",
   "execution_count": 41,
   "id": "940b4979-5ba3-4e8c-ad06-64a9e8565600",
   "metadata": {},
   "outputs": [
    {
     "name": "stdout",
     "output_type": "stream",
     "text": [
      "facebook\n",
      "['Google', 'America', 'Physics']\n",
      "3\n"
     ]
    }
   ],
   "source": [
    "dd = {\"elon\":\"Twitter\",\"Mark\":\"facebook\",\"Larry\":[\"Google\",\"America\",\"Physics\"]}\n",
    "print(dd[\"Mark\"])\n",
    "print(dd[\"Larry\"])\n",
    "print(len(dd))"
   ]
  },
  {
   "cell_type": "code",
   "execution_count": 51,
   "id": "b431a3b5-970b-47ae-8bd6-71d3dc56d789",
   "metadata": {},
   "outputs": [
    {
     "name": "stdout",
     "output_type": "stream",
     "text": [
      "Twitter\n",
      "dict_values(['Twitter', 'facebook', ['Google', 'America', 'Physics']])\n"
     ]
    }
   ],
   "source": [
    "x = dd.get(\"elon\")\n",
    "print(x)\n",
    "x =dd.values()\n",
    "print(x)"
   ]
  },
  {
   "cell_type": "code",
   "execution_count": 61,
   "id": "1d751301-11a4-4223-a39c-92af4f277fd6",
   "metadata": {},
   "outputs": [
    {
     "name": "stdout",
     "output_type": "stream",
     "text": [
      "dict_items([('elon', 'Twitter'), ('Mark', 'facebook'), ('Larry', ['Google', 'America', 'Physics'])])\n",
      "dict_items([('elon', 'Twitter'), ('Mark', 'facebook'), ('Larry', ['Google', 'America', 'Physics']), ('jeff', 'Amazon')])\n",
      "{'elon': 'Twitter', 'Mark': 'facebook', 'Larry': ['Google', 'America', 'Physics'], 'jeff': 'Amazon'}\n"
     ]
    }
   ],
   "source": [
    "#Add Something into the Dictionary\n",
    "dd = {\"elon\":\"Twitter\",\"Mark\":\"facebook\",\"Larry\":[\"Google\",\"America\",\"Physics\"]}\n",
    "x = dd.items()\n",
    "print(x)\n",
    "dd[\"jeff\"] = \"Amazon\"\n",
    "print(x)\n",
    "print(dd)"
   ]
  },
  {
   "cell_type": "code",
   "execution_count": 70,
   "id": "d8228612-78c8-45b3-bbd8-229a09f12dd7",
   "metadata": {},
   "outputs": [
    {
     "name": "stdout",
     "output_type": "stream",
     "text": [
      "{'elon': 'Twitter', 'Mark': 'Indian', 'Larry': ['Google', 'America', 'Physics']}\n"
     ]
    }
   ],
   "source": [
    "#Update the Dictionary Values\n",
    "dd = {\"elon\":\"Twitter\",\"Mark\":\"facebook\",\"Larry\":[\"Google\",\"America\",\"Physics\"]}\n",
    "# dd[\"Mark\"] = \"India\"\n",
    "dd.update({\"Mark\":\"Indian\"})\n",
    "print(dd)"
   ]
  },
  {
   "cell_type": "code",
   "execution_count": 83,
   "id": "39bee474-431b-4a3d-8abd-5ba49ec672b4",
   "metadata": {},
   "outputs": [
    {
     "name": "stdout",
     "output_type": "stream",
     "text": [
      "{'elon': 'Twitter', 'Mark': 'facebook', 'Larry': 1997}\n",
      "{'elon': 'Twitter', 'Larry': 1997}\n"
     ]
    }
   ],
   "source": [
    "ddx = {\"elon\":\"Twitter\",\"Mark\":\"facebook\",\"Larry\":1997}\n",
    "print(ddx)\n",
    "del ddx[\"Mark\"]\n",
    "print(ddx)"
   ]
  },
  {
   "cell_type": "code",
   "execution_count": 91,
   "id": "3ec950d7-6e59-4180-b274-da5f9278bb0f",
   "metadata": {},
   "outputs": [
    {
     "name": "stdout",
     "output_type": "stream",
     "text": [
      "{'elon': 'Twitter', 'Mark': 'facebook', 'Larry': 1997}\n",
      "{'elon': 'Twitter', 'Mark': 'facebook', 'Larry': 1997}\n",
      "{'elon': 'Twitter', 'Mark': 'facebook', 'Larry': 1997}\n"
     ]
    }
   ],
   "source": [
    "ddx = {\"elon\":\"Twitter\",\"Mark\":\"facebook\",\"Larry\":1997}\n",
    "for x in ddx.values():\n",
    "    print(ddx)"
   ]
  },
  {
   "cell_type": "code",
   "execution_count": 102,
   "id": "aff20565-09fb-45bd-ae03-30b6a2fa8704",
   "metadata": {},
   "outputs": [
    {
     "name": "stdout",
     "output_type": "stream",
     "text": [
      "{'Child1': {'elon': 'Twitter', 'Mark': 'facebook'}, 'Child2': {'elon': 'Twitter', 'Mark': 1957}}\n",
      "1957\n"
     ]
    }
   ],
   "source": [
    "ddx = { \"Child1\": {\"elon\":\"Twitter\",\"Mark\":\"facebook\"},\n",
    "       \"Child2\": {\"elon\":\"Twitter\",\"Mark\":1957}}\n",
    "print(ddx)\n",
    "print(ddx[\"Child2\"][\"Mark\"])\n",
    "\n",
    "# print(myfamily[\"child2\"][\"name\"])"
   ]
  },
  {
   "cell_type": "code",
   "execution_count": 116,
   "id": "cfe8e6da-b7af-4bad-aed2-1c0b6ecded23",
   "metadata": {},
   "outputs": [
    {
     "name": "stdout",
     "output_type": "stream",
     "text": [
      "child1\n",
      "name: Emil\n",
      "year: 2004\n",
      "child2\n",
      "name: Tobias\n",
      "year: 2007\n",
      "child3\n",
      "name: Linus\n",
      "year: 2011\n"
     ]
    }
   ],
   "source": [
    "myfamily = {\n",
    "  \"child1\" : {\n",
    "    \"name\" : \"Emil\",\n",
    "    \"year\" : 2004\n",
    "  },\n",
    "  \"child2\" : {\n",
    "    \"name\" : \"Tobias\",\n",
    "    \"year\" : 2007\n",
    "  },\n",
    "  \"child3\" : {\n",
    "    \"name\" : \"Linus\",\n",
    "    \"year\" : 2011\n",
    "  }\n",
    "}\n",
    "\n",
    "for x, obj in myfamily.items():\n",
    "    print(x)\n",
    "    \n",
    "    for y in obj:\n",
    "        print(y + ':', obj[y])"
   ]
  },
  {
   "cell_type": "code",
   "execution_count": 130,
   "id": "7414ede9-0f3c-4fc9-b176-0695903fe58a",
   "metadata": {},
   "outputs": [
    {
     "name": "stdout",
     "output_type": "stream",
     "text": [
      "2\n",
      "5\n",
      "8\n",
      "11\n",
      "14\n",
      "17\n",
      "20\n",
      "23\n",
      "26\n",
      "29\n"
     ]
    }
   ],
   "source": [
    "# x = [2,3,5,6,4,3]\n",
    "for x in range(2, 30, 3):\n",
    "  print(x)"
   ]
  },
  {
   "cell_type": "code",
   "execution_count": 144,
   "id": "73060ac4-290e-44d5-ae0b-dbe20cd09255",
   "metadata": {},
   "outputs": [
    {
     "name": "stdout",
     "output_type": "stream",
     "text": [
      "Milk\n",
      "Mango\n"
     ]
    }
   ],
   "source": [
    "dp = [\"Milk\",\"Mango\",\"Orange\"]\n",
    "for x in dp:\n",
    "    print(x)\n",
    "    if x == \"Mango\":\n",
    "      break\n",
    "\n",
    "# fruits = [\"apple\", \"banana\", \"cherry\"]\n",
    "# for x in fruits:\n",
    "#   print(x)\n",
    "#   if x == \"banana\":\n",
    "#     break"
   ]
  },
  {
   "cell_type": "code",
   "execution_count": 147,
   "id": "46d47386-0413-4b97-af76-ab9f90b019d1",
   "metadata": {},
   "outputs": [
    {
     "name": "stdout",
     "output_type": "stream",
     "text": [
      "2\n",
      "4\n",
      "6\n",
      "8\n",
      "10\n",
      "12\n",
      "14\n"
     ]
    }
   ],
   "source": [
    "#with difference of 2 in each value from 2-15\n",
    "for x in range (2,15,2):\n",
    "    print(x)"
   ]
  },
  {
   "cell_type": "code",
   "execution_count": 2,
   "id": "fa199108-0532-4ed4-85af-fbe733774e10",
   "metadata": {},
   "outputs": [
    {
     "name": "stdout",
     "output_type": "stream",
     "text": [
      "Milk Jeff Bezos\n",
      "Milk Musk\n",
      "Milk Mark\n",
      "Mango Jeff Bezos\n",
      "Mango Musk\n",
      "Mango Mark\n",
      "Orange Jeff Bezos\n",
      "Orange Musk\n",
      "Orange Mark\n"
     ]
    }
   ],
   "source": [
    "dp = [\"Milk\",\"Mango\",\"Orange\"]\n",
    "dpx = [\"Jeff Bezos\",\"Musk\",\"Mark\"]\n",
    "for x in dp:\n",
    "    for y in dpx:\n",
    "        print(x,y)"
   ]
  },
  {
   "cell_type": "code",
   "execution_count": 167,
   "id": "3c8522bb-997e-4561-8c22-ceddbfc605db",
   "metadata": {},
   "outputs": [],
   "source": [
    "for x in [0, 1, 2]:\n",
    "  pass"
   ]
  },
  {
   "cell_type": "code",
   "execution_count": 4,
   "id": "97a06551-fdd3-423e-8c79-16a79c19d081",
   "metadata": {},
   "outputs": [
    {
     "name": "stdout",
     "output_type": "stream",
     "text": [
      "Zaibi Noob\n"
     ]
    }
   ],
   "source": [
    "#Function Made\n",
    "def helloworld():\n",
    "    print(\"Zaibi Noob\")\n",
    "\n",
    "helloworld()"
   ]
  },
  {
   "cell_type": "code",
   "execution_count": 12,
   "id": "bc330b7d-f1ee-4f7d-91c9-9b28b8869e14",
   "metadata": {},
   "outputs": [
    {
     "name": "stdout",
     "output_type": "stream",
     "text": [
      "Naveed Thanks\n",
      "indian Thanks\n",
      "Pakistan Thanks\n"
     ]
    }
   ],
   "source": [
    "#Pass the Arguments to Functions\n",
    "def ustad(wx):\n",
    "    print(wx + \" Thanks\")\n",
    "\n",
    "ustad(\"Naveed\")\n",
    "ustad(\"indian\")\n",
    "ustad(\"Pakistan\")"
   ]
  },
  {
   "cell_type": "code",
   "execution_count": 18,
   "id": "1c8de19c-bf85-4c32-8763-f922b7ac9613",
   "metadata": {},
   "outputs": [
    {
     "name": "stdout",
     "output_type": "stream",
     "text": [
      "This is Anjum\n"
     ]
    }
   ],
   "source": [
    "#If Arguments Unknown\n",
    "def ustad(*wx):\n",
    "    print(\"This is \" + wx[1])\n",
    "\n",
    "ustad (\"Naveed\",\"Anjum\",\"Masood\")"
   ]
  },
  {
   "cell_type": "code",
   "execution_count": 21,
   "id": "d02c0dda-3335-49b8-abbf-8d58dcf17816",
   "metadata": {},
   "outputs": [
    {
     "name": "stdout",
     "output_type": "stream",
     "text": [
      "This is Masood\n"
     ]
    }
   ],
   "source": [
    "# key = value Arguments to be send\n",
    "def ustad(c1,c2,c3):\n",
    "    print(\"This is \" + c3)\n",
    "\n",
    "ustad (c1 = \"Naveed\",c2 = \"Anjum\", c3 = \"Masood\")"
   ]
  },
  {
   "cell_type": "code",
   "execution_count": 25,
   "id": "b5514d96-5f2d-4da1-9922-2578a8779b3e",
   "metadata": {},
   "outputs": [
    {
     "name": "stdout",
     "output_type": "stream",
     "text": [
      "This is Naveed\n"
     ]
    }
   ],
   "source": [
    "# If Known Keyword Arguments use -> **kwargs\n",
    "def ustad(**wwx):\n",
    "    print(\"This is \" + wwx[\"c1\"])\n",
    "\n",
    "ustad (c1 = \"Naveed\",c2 = \"Anjum\", c3 = \"Masood\")"
   ]
  },
  {
   "cell_type": "code",
   "execution_count": 27,
   "id": "50a33244-45ce-4cd1-9444-1cf42e2b90bb",
   "metadata": {},
   "outputs": [
    {
     "name": "stdout",
     "output_type": "stream",
     "text": [
      "This is Naveed\n",
      "This is kass\n",
      "This is Phy\n",
      "This is asa\n"
     ]
    }
   ],
   "source": [
    "# Default Parameter Value\n",
    "def myking ( style= \"Phy\"):\n",
    "    print(\"This is \" + style )\n",
    "\n",
    "myking(\"Naveed\")\n",
    "myking(\"kass\")\n",
    "myking()\n",
    "myking(\"asa\")"
   ]
  },
  {
   "cell_type": "code",
   "execution_count": 10,
   "id": "1a7db813-351e-4c20-b2e2-812814c1b7f7",
   "metadata": {},
   "outputs": [
    {
     "name": "stdout",
     "output_type": "stream",
     "text": [
      "queen\n"
     ]
    }
   ],
   "source": [
    "# //Only Keyword Argument\n",
    "def my_func(*,x):\n",
    "    print(x)\n",
    "\n",
    "my_func(x = \"queen\")"
   ]
  },
  {
   "cell_type": "code",
   "execution_count": 8,
   "id": "0ee458c2-b428-48b6-a333-f78d78af239b",
   "metadata": {},
   "outputs": [
    {
     "name": "stdout",
     "output_type": "stream",
     "text": [
      "\n",
      "\n",
      "Recursion Example Results\n",
      "1\n",
      "3\n",
      "6\n",
      "10\n",
      "15\n",
      "21\n"
     ]
    },
    {
     "data": {
      "text/plain": [
       "21"
      ]
     },
     "execution_count": 8,
     "metadata": {},
     "output_type": "execute_result"
    }
   ],
   "source": [
    "def tri_recursion(k):\n",
    "  if(k > 0):\n",
    "    result = k + tri_recursion(k - 1)\n",
    "    print(result)\n",
    "  else:\n",
    "    result = 0\n",
    "  return result\n",
    "\n",
    "print(\"\\n\\nRecursion Example Results\")\n",
    "tri_recursion(6)"
   ]
  },
  {
   "cell_type": "markdown",
   "id": "102d4834-9a64-4003-a4f4-178e81674780",
   "metadata": {},
   "source": [
    "XXXXXXXXXXXXXXXXXXXXXXXXXXXXXXXXXXXx"
   ]
  },
  {
   "cell_type": "code",
   "execution_count": 12,
   "id": "ca687995-bc0f-454f-8a94-0f6a00fd2fd5",
   "metadata": {},
   "outputs": [
    {
     "name": "stdout",
     "output_type": "stream",
     "text": [
      "Odd\n"
     ]
    }
   ],
   "source": [
    "#Even or Odd Numbers\n",
    "Num = 59\n",
    "if Num % 2 == 0:    # If the number divided by 2 has no remainder, it's Even\n",
    "    print(\"Even\")\n",
    "else:\n",
    "    print(\"Odd\")"
   ]
  },
  {
   "cell_type": "code",
   "execution_count": 2,
   "id": "aad4689f-62d8-4546-b49a-3f29869e5b1e",
   "metadata": {},
   "outputs": [
    {
     "ename": "SyntaxError",
     "evalue": "invalid syntax. Perhaps you forgot a comma? (2461902548.py, line 7)",
     "output_type": "error",
     "traceback": [
      "\u001b[1;36m  Cell \u001b[1;32mIn[2], line 7\u001b[1;36m\u001b[0m\n\u001b[1;33m    print(\"Largest\", Num 1)\u001b[0m\n\u001b[1;37m                     ^\u001b[0m\n\u001b[1;31mSyntaxError\u001b[0m\u001b[1;31m:\u001b[0m invalid syntax. Perhaps you forgot a comma?\n"
     ]
    }
   ],
   "source": [
    "#Largest 3 Numbers \n",
    "Num1 = int(input(\"Enter 1 Number\"))\n",
    "Num2 = int(input(\"Enter 12 Number\"))\n",
    "Num3 = int(input(\"Enter 3 Number\"))\n",
    "\n",
    "if Num1>=Num2 and Num1>=Num3:\n",
    "    print(\"Largest\", Num 1)\n",
    "elif Num2>=Num1 and Num2>=Num3:\n",
    "    print(\"Largest\", Num 2)\n",
    "else:\n",
    "    print(\"Largest\", Num 3)"
   ]
  },
  {
   "cell_type": "markdown",
   "id": "2bd269d9-9f50-4603-8a21-54a16f286814",
   "metadata": {},
   "source": [
    "xxxxxxxxxxxxxxxxxxxxxxxxxxxxxxxxxxxxxxxxxxxxxxxxxxxxxxxxxxxxxxxx"
   ]
  },
  {
   "cell_type": "markdown",
   "id": "fabbafda-065a-4b3f-9a05-c031137c7103",
   "metadata": {},
   "source": [
    "LISTS >>>>>>>>>>>>>>>>>>>>>>>>>>>> 😁"
   ]
  },
  {
   "cell_type": "code",
   "execution_count": null,
   "id": "8e48314f-93a5-4faf-a5c1-113c0f13cfdb",
   "metadata": {},
   "outputs": [],
   "source": []
  }
 ],
 "metadata": {
  "kernelspec": {
   "display_name": "Python 3 (ipykernel)",
   "language": "python",
   "name": "python3"
  },
  "language_info": {
   "codemirror_mode": {
    "name": "ipython",
    "version": 3
   },
   "file_extension": ".py",
   "mimetype": "text/x-python",
   "name": "python",
   "nbconvert_exporter": "python",
   "pygments_lexer": "ipython3",
   "version": "3.12.5"
  },
  "widgets": {
   "application/vnd.jupyter.widget-state+json": {
    "state": {},
    "version_major": 2,
    "version_minor": 0
   }
  }
 },
 "nbformat": 4,
 "nbformat_minor": 5
}
