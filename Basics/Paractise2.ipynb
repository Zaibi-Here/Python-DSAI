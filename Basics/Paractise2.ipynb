{
  "nbformat": 4,
  "nbformat_minor": 0,
  "metadata": {
    "colab": {
      "provenance": []
    },
    "kernelspec": {
      "name": "python3",
      "display_name": "Python 3"
    },
    "language_info": {
      "name": "python"
    }
  },
  "cells": [
    {
      "cell_type": "markdown",
      "source": [
        "# **Learning From Diff. Resources**"
      ],
      "metadata": {
        "id": "Y0uVxarRdSNj"
      }
    },
    {
      "cell_type": "code",
      "execution_count": null,
      "metadata": {
        "colab": {
          "base_uri": "https://localhost:8080/"
        },
        "id": "1RFiHlMcdOv-",
        "outputId": "880e147f-a173-48c7-9912-a5fcc8358d29"
      },
      "outputs": [
        {
          "output_type": "stream",
          "name": "stdout",
          "text": [
            "For:  0\n",
            "For:  1\n",
            "For:  2\n",
            "For:  3\n",
            "For:  4\n",
            "While:  0\n",
            "While:  1\n",
            "While:  2\n",
            "While:  3\n",
            "While:  4\n",
            "While:  5\n",
            "While:  6\n",
            "While:  7\n",
            "While:  8\n",
            "While:  9\n",
            "While:  10\n",
            "While:  11\n"
          ]
        }
      ],
      "source": [
        "#Loops\n",
        "for i in range (5):\n",
        "  print (\"For: \",i)\n",
        "\n",
        "#While\n",
        "count  = 0\n",
        "while count < 12:\n",
        "  print(\"While: \",count)\n",
        "  count +=1"
      ]
    },
    {
      "cell_type": "code",
      "source": [
        "#Functions\n",
        "def func (x):  #Must take Parameters\n",
        "  print(\"Sir G Kia Hall Hain 😍\")\n",
        "\n",
        "func(x)"
      ],
      "metadata": {
        "colab": {
          "base_uri": "https://localhost:8080/"
        },
        "id": "lZVMNlWidXVR",
        "outputId": "61f86f48-9c70-4e4d-be85-64bde8971d9f"
      },
      "execution_count": null,
      "outputs": [
        {
          "output_type": "stream",
          "name": "stdout",
          "text": [
            "Sir G Kia Hall Hain 😍\n"
          ]
        }
      ]
    },
    {
      "cell_type": "code",
      "source": [
        "#Lists\n",
        "itxList = [\"Twinkle\",\"Twinkle\",\"Little\"]\n",
        "print(itxList)\n",
        "itxList.append(\"Star\")\n",
        "print(itxList)\n",
        "print(itxList[1])"
      ],
      "metadata": {
        "colab": {
          "base_uri": "https://localhost:8080/"
        },
        "id": "6kE7Vrdhg59P",
        "outputId": "b6fb571f-875e-4e2a-c6c3-8f34ab299f94"
      },
      "execution_count": null,
      "outputs": [
        {
          "output_type": "stream",
          "name": "stdout",
          "text": [
            "['Twinkle', 'Twinkle', 'Little']\n",
            "['Twinkle', 'Twinkle', 'Little', 'Star']\n",
            "Twinkle\n"
          ]
        }
      ]
    },
    {
      "cell_type": "code",
      "source": [
        "# Dictionaries: Keys:Values\n",
        "\n",
        "Dic = {\"Ali\":\"Khan\",\"Jahan\":\"Khan\",\"Zaibi\":\"Khan\"}\n",
        "print(Dic[\"Zaibi\"])"
      ],
      "metadata": {
        "colab": {
          "base_uri": "https://localhost:8080/"
        },
        "id": "XTg5r0tViWXt",
        "outputId": "d3a0c0a0-ea41-43b4-db6f-ef5bc516cc36"
      },
      "execution_count": null,
      "outputs": [
        {
          "output_type": "stream",
          "name": "stdout",
          "text": [
            "Khan\n"
          ]
        }
      ]
    },
    {
      "cell_type": "code",
      "source": [
        "#Comprehensives Lists\n",
        "Lis = [x**4 for x in range(10)]\n",
        "print(Lis)"
      ],
      "metadata": {
        "colab": {
          "base_uri": "https://localhost:8080/"
        },
        "id": "0BFqXY6Djins",
        "outputId": "da2631aa-1a89-4785-ef8d-b5ef0f9d2bc1"
      },
      "execution_count": null,
      "outputs": [
        {
          "output_type": "stream",
          "name": "stdout",
          "text": [
            "[0, 1, 16, 81, 256, 625, 1296, 2401, 4096, 6561]\n"
          ]
        }
      ]
    },
    {
      "cell_type": "markdown",
      "source": [
        "## **Lists & Arrays**"
      ],
      "metadata": {
        "id": "-7UZg1cSwLk_"
      }
    },
    {
      "cell_type": "code",
      "source": [
        "#Negitive Indexing in Lists\n",
        "myList = [\"Mirza\",\"Ali\",\"Anjum\",'Anjum', 'Ali', 'Mirza','Anjum', 'Ali', 'Mirza','Anjum', 'Ali', 'Mirza']\n",
        "myList[-1::-3] #start:stop:step\n",
        "#Step of -2: This means we will skip one element after each step."
      ],
      "metadata": {
        "id": "yup-s_LMkE87",
        "colab": {
          "base_uri": "https://localhost:8080/"
        },
        "outputId": "d77ef809-a991-4673-d6ce-7b426997f1e7"
      },
      "execution_count": 2,
      "outputs": [
        {
          "output_type": "execute_result",
          "data": {
            "text/plain": [
              "['Mirza', 'Mirza', 'Mirza', 'Anjum']"
            ]
          },
          "metadata": {},
          "execution_count": 2
        }
      ]
    },
    {
      "cell_type": "code",
      "source": [
        "#Negitive Indexing in Lists\n",
        "myList = [\"Mirza\",\"Ali\",\"Anjum\",'Anjum', 'Ali']\n",
        "# myList[2:] #Start after 2 Index\n",
        "myList[:2] #Ignore after 2 Index"
      ],
      "metadata": {
        "colab": {
          "base_uri": "https://localhost:8080/"
        },
        "id": "OcKtyEiuwXHr",
        "outputId": "4c6df170-36ed-472d-fd1e-269da1638aac"
      },
      "execution_count": 7,
      "outputs": [
        {
          "output_type": "execute_result",
          "data": {
            "text/plain": [
              "['Mirza', 'Ali']"
            ]
          },
          "metadata": {},
          "execution_count": 7
        }
      ]
    },
    {
      "cell_type": "code",
      "source": [
        "#Append -- .append\n",
        "#insert -- .insert(3, \"Naveed\")\n",
        "#Remoce -- .remove(\"Apple\")\n",
        "#Delelte List -- del(List)\n",
        "#Sorting - - .sort()\n",
        "#Copy -- list.copy()"
      ],
      "metadata": {
        "id": "U6LUWFeD1Zde"
      },
      "execution_count": 40,
      "outputs": []
    },
    {
      "cell_type": "code",
      "source": [
        "#Loop in Lists\n",
        "List = [\"Mirza\",\"Ali\",\"Anjum\",'Anjum', 'Ali']\n",
        "for i in List:\n",
        "  print(i)"
      ],
      "metadata": {
        "colab": {
          "base_uri": "https://localhost:8080/"
        },
        "id": "GMfygaol237o",
        "outputId": "d1983e5d-b328-4af2-f946-0c251ed2c55f"
      },
      "execution_count": 13,
      "outputs": [
        {
          "output_type": "stream",
          "name": "stdout",
          "text": [
            "Mirza\n",
            "Ali\n",
            "Anjum\n",
            "Anjum\n",
            "Ali\n"
          ]
        }
      ]
    },
    {
      "cell_type": "code",
      "source": [
        "#While\n",
        "List = [\"Mirza\",\"Ali\",\"Anjum\",'Anjum', 'Ali']\n",
        "i = 0  #to start from 1st Value\n",
        "while i< len(List):  #to know where to stop\n",
        "  print(List[i])\n",
        "  i +=1 #increment 1 by 1"
      ],
      "metadata": {
        "colab": {
          "base_uri": "https://localhost:8080/"
        },
        "id": "J698UkVl3AgO",
        "outputId": "ab7c2725-3324-4cda-f45a-e38574fdbb83"
      },
      "execution_count": 17,
      "outputs": [
        {
          "output_type": "stream",
          "name": "stdout",
          "text": [
            "Mirza\n",
            "Ali\n",
            "Anjum\n",
            "Anjum\n",
            "Ali\n"
          ]
        }
      ]
    },
    {
      "cell_type": "code",
      "source": [
        "#Append 1st List Elements into 2nd Element\n",
        "\n",
        "List = [\"Mirza\",\"Ali\",\"Anjum\",'Anjum', 'Ali']\n",
        "List2 = []\n",
        "\n",
        "for i in List:\n",
        "  if \"j\" in i:\n",
        "    i = i.upper() #Upper the elements\n",
        "    List2.append(i)\n",
        "\n",
        "print(List2)"
      ],
      "metadata": {
        "colab": {
          "base_uri": "https://localhost:8080/"
        },
        "id": "-h1lAGaC35or",
        "outputId": "44c96407-89c7-4524-f853-e929333af377"
      },
      "execution_count": 28,
      "outputs": [
        {
          "output_type": "stream",
          "name": "stdout",
          "text": [
            "['ANJUM', 'ANJUM']\n"
          ]
        }
      ]
    },
    {
      "cell_type": "code",
      "source": [
        "#Sorting the List\n",
        "\n",
        "List = [\"Mirza\",\"Ali\",\"Anjum\",'Anjum', 'ALi']\n",
        "List = [324,234,35,654,23,12,35634,12,432,356]\n",
        "List.sort(reverse = True) #Revrse the String\n",
        "print(List)"
      ],
      "metadata": {
        "colab": {
          "base_uri": "https://localhost:8080/"
        },
        "id": "1DYKCjKc57jF",
        "outputId": "7358f2ae-f455-4881-e4bb-71b787855472"
      },
      "execution_count": 38,
      "outputs": [
        {
          "output_type": "stream",
          "name": "stdout",
          "text": [
            "[35634, 654, 432, 356, 324, 234, 35, 23, 12, 12]\n"
          ]
        }
      ]
    },
    {
      "cell_type": "code",
      "source": [
        "#Join the List\n",
        "List1 = [\"Raja\"]\n",
        "List2 = [\"Anjum\",\"Rafique\"]\n",
        "List3 = List1+List2\n",
        "List3\n",
        "for i in List3:\n",
        "  print(i,   end = \" \") #  end = \" \" for No Line Breaks"
      ],
      "metadata": {
        "colab": {
          "base_uri": "https://localhost:8080/"
        },
        "id": "XcCeiHkR6_c1",
        "outputId": "5ded3e79-9553-4ff1-913b-c75479855245"
      },
      "execution_count": 44,
      "outputs": [
        {
          "output_type": "stream",
          "name": "stdout",
          "text": [
            "Raja Anjum Rafique "
          ]
        }
      ]
    },
    {
      "cell_type": "markdown",
      "source": [
        "## **Tuple & Sets**"
      ],
      "metadata": {
        "id": "0OLmat2i_n4F"
      }
    },
    {
      "cell_type": "code",
      "source": [
        "thistuple = (\"apple\",) #Must Comma for 1 Element to Make Tuple\n",
        "print(len(thistuple))\n",
        "print(type(thistuple))"
      ],
      "metadata": {
        "colab": {
          "base_uri": "https://localhost:8080/"
        },
        "id": "WQNoGa3R_qKF",
        "outputId": "6d85ccce-8bc2-446e-c8fb-c5e45b68d446"
      },
      "execution_count": 49,
      "outputs": [
        {
          "output_type": "stream",
          "name": "stdout",
          "text": [
            "1\n",
            "<class 'tuple'>\n"
          ]
        }
      ]
    },
    {
      "cell_type": "code",
      "source": [
        "#Convert Tuple to List, Append & Again List to Tuple\n",
        "\n",
        "thistuple = (\"Anddy\", \"Wala\", \"Burger\")\n",
        "y = list(thistuple)\n",
        "y.append(\"Chaiye\")\n",
        "print(y)\n",
        "print(type(y))\n",
        "L = tuple(y)\n",
        "print(L)\n",
        "print(type(L))"
      ],
      "metadata": {
        "colab": {
          "base_uri": "https://localhost:8080/"
        },
        "id": "AcLBmcMU_sXn",
        "outputId": "8b6e80e4-b57e-4279-ad0e-19ed53f19b73"
      },
      "execution_count": 55,
      "outputs": [
        {
          "output_type": "stream",
          "name": "stdout",
          "text": [
            "['Anddy', 'Wala', 'Burger', 'Chaiye']\n",
            "<class 'list'>\n",
            "('Anddy', 'Wala', 'Burger', 'Chaiye')\n",
            "<class 'tuple'>\n"
          ]
        }
      ]
    },
    {
      "cell_type": "code",
      "source": [
        "XXT = (\"Anddy\", \"Wala\", \"Burger\",\"is\",\"Here\")\n",
        "(X,Y,*Z) = XXT  #3 Values Expected but Rest of Values Assign to Z when Use *\n",
        "print(X,end = \" \")\n",
        "print(Y,end = \" \")\n",
        "print(Z,end = \" \")"
      ],
      "metadata": {
        "colab": {
          "base_uri": "https://localhost:8080/"
        },
        "id": "W8HpPbUjAoo1",
        "outputId": "9f599658-ca13-4296-a250-3cf443ad78ac"
      },
      "execution_count": 61,
      "outputs": [
        {
          "output_type": "stream",
          "name": "stdout",
          "text": [
            "Anddy Wala ['Burger', 'is', 'Here'] "
          ]
        }
      ]
    },
    {
      "cell_type": "code",
      "source": [
        "XXT = (32,23,43,45,34,23,23)\n",
        "X = XXT.count(23) #Return No. of Times Value Appear\n",
        "print(X)"
      ],
      "metadata": {
        "colab": {
          "base_uri": "https://localhost:8080/"
        },
        "id": "G2mbfFBYCAOP",
        "outputId": "87ee23f7-98d8-4ef8-9eda-68485cdf65c7"
      },
      "execution_count": 67,
      "outputs": [
        {
          "output_type": "stream",
          "name": "stdout",
          "text": [
            "3\n"
          ]
        }
      ]
    },
    {
      "cell_type": "markdown",
      "source": [
        "## **Dictionaries**"
      ],
      "metadata": {
        "id": "Sr44XpTkDhy9"
      }
    },
    {
      "cell_type": "code",
      "source": [
        "dict1 = {               #Copy Dic1 to Dic2\n",
        "  \"brand\": \"Ford\",\n",
        "  \"model\": \"Mustang\",\n",
        "  \"year\": 1964\n",
        "}\n",
        "dict2 = dict1.copy()\n",
        "dict2.update({\"Ali\":\"Raja\"}) #Add Ali:Raja\n",
        "print(dict2)"
      ],
      "metadata": {
        "colab": {
          "base_uri": "https://localhost:8080/"
        },
        "id": "8QbgZY-sDkE_",
        "outputId": "5b10eafa-5e89-4e62-da50-b594bb6e8034"
      },
      "execution_count": 76,
      "outputs": [
        {
          "output_type": "stream",
          "name": "stdout",
          "text": [
            "{'brand': 'Ford', 'model': 'Mustang', 'year': 1964, 'Ali': 'Raja'}\n"
          ]
        }
      ]
    },
    {
      "cell_type": "code",
      "source": [
        "Dic = {\"Car\" : \"Mehran\",\"Engine\":\"1600cc\",\"Model\": [\"Shahm\",\"Ali\",\"Jaha\"]}\n",
        "\n",
        "print((len(Dic))) #Length of Dictionary\n",
        "print(Dic[\"Model\"])\n",
        "print(type(Dic))"
      ],
      "metadata": {
        "colab": {
          "base_uri": "https://localhost:8080/"
        },
        "id": "mNef9m2PDuNF",
        "outputId": "b983c8a4-44a4-4e6c-bd0b-21430dc4a818"
      },
      "execution_count": 77,
      "outputs": [
        {
          "output_type": "stream",
          "name": "stdout",
          "text": [
            "3\n",
            "['Shahm', 'Ali', 'Jaha']\n",
            "<class 'dict'>\n"
          ]
        }
      ]
    },
    {
      "cell_type": "code",
      "source": [
        "#by Constructor\n",
        "Dic = dict (name = \"Ali\", Model = 554) #used a dict() constructor to MADE THIS\n",
        "print(Dic)"
      ],
      "metadata": {
        "colab": {
          "base_uri": "https://localhost:8080/"
        },
        "id": "S3CLKDbsFMmS",
        "outputId": "8f0fb5e9-958d-4dae-8879-d3f8a5a0fd1a"
      },
      "execution_count": 78,
      "outputs": [
        {
          "output_type": "stream",
          "name": "stdout",
          "text": [
            "{'name': 'Ali', 'Model': 554}\n"
          ]
        }
      ]
    },
    {
      "cell_type": "markdown",
      "source": [
        "## **Functions**"
      ],
      "metadata": {
        "id": "PCUIqU5jFfpA"
      }
    },
    {
      "cell_type": "code",
      "source": [
        "def this_Func():    #Simple Function\n",
        "  print(\"sHAHZAIB HU yRR\")\n",
        "\n",
        "this_Func() #Call"
      ],
      "metadata": {
        "colab": {
          "base_uri": "https://localhost:8080/"
        },
        "id": "SHDubX9MFOWK",
        "outputId": "a13a41e6-c981-4ca9-f52e-b92c7e5fefa8"
      },
      "execution_count": 82,
      "outputs": [
        {
          "output_type": "stream",
          "name": "stdout",
          "text": [
            "sHAHZAIB HU yRR\n"
          ]
        }
      ]
    },
    {
      "cell_type": "code",
      "source": [
        "def email(X):\n",
        "  print(X,\"@pwr.nu.edu.pk\")\n",
        "\n",
        "email(\"P200473\")\n",
        "email(\"P200476\")\n",
        "email(\"P200480\")"
      ],
      "metadata": {
        "colab": {
          "base_uri": "https://localhost:8080/"
        },
        "id": "CFXFRKTYFhax",
        "outputId": "b628fc0f-42ce-42d0-d050-f7310d577f23"
      },
      "execution_count": 83,
      "outputs": [
        {
          "output_type": "stream",
          "name": "stdout",
          "text": [
            "P200473 @pwr.nu.edu.pk\n",
            "P200476 @pwr.nu.edu.pk\n",
            "P200480 @pwr.nu.edu.pk\n"
          ]
        }
      ]
    },
    {
      "cell_type": "code",
      "source": [
        "#Arbitrary Arguments, *args\n",
        "def email(*X): # *X can Expect Unknown Arguments\n",
        "  print(X[1],\"@pwr.nu.edu.pk\") # x[1] Index Tell\n",
        "\n",
        "email(\"P200473\",\"P200476\")"
      ],
      "metadata": {
        "colab": {
          "base_uri": "https://localhost:8080/"
        },
        "id": "3LUY5lV9GTXb",
        "outputId": "ff0c6d01-1800-4a01-ca75-3d3b8445e1ce"
      },
      "execution_count": 90,
      "outputs": [
        {
          "output_type": "stream",
          "name": "stdout",
          "text": [
            "P200476 @pwr.nu.edu.pk\n"
          ]
        }
      ]
    },
    {
      "cell_type": "code",
      "source": [
        "#Arbitrary Arguments, *args\n",
        "def email(**X): #**X Used for Keyword Arguments\n",
        "  print(X[\"roll2\"],\"@pwr.nu.edu.pk\")\n",
        "\n",
        "email(roll1 = \"P200473\", roll2 = \"P200499\") #This is Called Keywords Arguments"
      ],
      "metadata": {
        "colab": {
          "base_uri": "https://localhost:8080/"
        },
        "id": "jzBfVAlyGzxY",
        "outputId": "9049e771-cb08-4e29-9588-0274b49b8601"
      },
      "execution_count": 93,
      "outputs": [
        {
          "output_type": "stream",
          "name": "stdout",
          "text": [
            "P200499 @pwr.nu.edu.pk\n"
          ]
        }
      ]
    },
    {
      "cell_type": "code",
      "source": [
        "def myfunction():\n",
        "  pass     #Just Run the Compiler with No tatementd"
      ],
      "metadata": {
        "id": "aqwcXzuhH4ao"
      },
      "execution_count": 94,
      "outputs": []
    },
    {
      "cell_type": "code",
      "source": [
        "#Lambda\n",
        "# lambda arguments : expression\n",
        "sumi = lambda x : x**2\n",
        "\n",
        "print(sumi(6))  #sending the Argument to x"
      ],
      "metadata": {
        "colab": {
          "base_uri": "https://localhost:8080/"
        },
        "id": "4pJWu15hI7G6",
        "outputId": "85f9d2b8-41b0-417e-c8bd-cbe7c7e8f114"
      },
      "execution_count": 105,
      "outputs": [
        {
          "output_type": "stream",
          "name": "stdout",
          "text": [
            "36\n"
          ]
        }
      ]
    },
    {
      "cell_type": "markdown",
      "source": [
        "## **Classess & Objects**"
      ],
      "metadata": {
        "id": "7wIGwF-wMiW8"
      }
    },
    {
      "cell_type": "code",
      "source": [
        "class pindi:    #Class Made\n",
        "  x = 555555555\n",
        "\n",
        "p1 = pindi()   #Made the Object\n",
        "print(p1.x)    #Call"
      ],
      "metadata": {
        "colab": {
          "base_uri": "https://localhost:8080/"
        },
        "id": "vYCUropoK8tQ",
        "outputId": "5c351346-15ba-4b8e-b2be-17a1167489cc"
      },
      "execution_count": 109,
      "outputs": [
        {
          "output_type": "stream",
          "name": "stdout",
          "text": [
            "555555555\n"
          ]
        }
      ]
    },
    {
      "cell_type": "code",
      "source": [
        "class car:\n",
        "  def __init__(self,Model1,Model2):  #Arguments Passed\n",
        "     # __init__ Function will used to assign values\n",
        "    self.Model1 = Model1    #Assign Values\n",
        "    self.Model2 = Model2      #Assign Values\n",
        "\n",
        "c1 = car(\"Mehran\",\"Suzuki\")   #Object Made+Names\n",
        "print(c1.Model1)     #Prints\n",
        "print(c1.Model2)"
      ],
      "metadata": {
        "colab": {
          "base_uri": "https://localhost:8080/"
        },
        "id": "evJLpuiPMtLz",
        "outputId": "cfa30eb1-c912-49eb-8e7b-0b6a0bb0d8cd"
      },
      "execution_count": 116,
      "outputs": [
        {
          "output_type": "stream",
          "name": "stdout",
          "text": [
            "Mehran\n",
            "Suzuki\n"
          ]
        }
      ]
    },
    {
      "cell_type": "code",
      "source": [
        "class Monkey:    #TRY AGAIN\n",
        "  def __init__ (self,name,age):\n",
        "    self.name=name\n",
        "    self.age=age\n",
        "\n",
        "m1 = Monkey(\"Chapanzeee\",\"44\")\n",
        "print(m1.age, end=\" \")\n",
        "print(m1.name, end=\" \")"
      ],
      "metadata": {
        "colab": {
          "base_uri": "https://localhost:8080/"
        },
        "id": "NMrz6_EUOpYg",
        "outputId": "e0d797a0-0096-4100-faee-088c6304e273"
      },
      "execution_count": 122,
      "outputs": [
        {
          "output_type": "stream",
          "name": "stdout",
          "text": [
            "44 Chapanzeee "
          ]
        }
      ]
    },
    {
      "cell_type": "code",
      "source": [
        "class Monkey:    #using __Str__\n",
        "  def __init__ (self,name,age):\n",
        "    self.name=name\n",
        "    self.age=age\n",
        "\n",
        "  def __str__(self):  # Defines what happens when we print the object\n",
        "    return f\"Monkey: {self.name}, Age: {self.age}\"\n",
        "\n",
        "m1 = Monkey(\"Chapanzeee\",\"44\")\n",
        "# print(m1.age, end=\" \")\n",
        "# print(m1.name, end=\" \")\n",
        "print (m1)"
      ],
      "metadata": {
        "colab": {
          "base_uri": "https://localhost:8080/"
        },
        "id": "Hv_zHBArPZeJ",
        "outputId": "aa1f4a77-803b-420f-dd91-131ffc7b237f"
      },
      "execution_count": 129,
      "outputs": [
        {
          "output_type": "stream",
          "name": "stdout",
          "text": [
            "Monkey: Chapanzeee, Age: 44\n"
          ]
        }
      ]
    },
    {
      "cell_type": "markdown",
      "source": [
        "**Inheritance**"
      ],
      "metadata": {
        "id": "vsx0W6ojSOqU"
      }
    },
    {
      "cell_type": "code",
      "source": [
        "class Monkey:    #using __Str__\n",
        "  def __init__ (self,name,age):\n",
        "    self.name=name\n",
        "    self.age=age\n",
        "\n",
        "m1 = Monkey(\"Chapanzeee\",\"44\")\n",
        "print(m1.age, end=\" \")\n",
        "print(m1.name, end=\" \")\n",
        "# print (m1.x)"
      ],
      "metadata": {
        "colab": {
          "base_uri": "https://localhost:8080/"
        },
        "id": "A4HP5QHdQVUU",
        "outputId": "26c2c332-4101-4bd9-d16d-fc20a10a6a17"
      },
      "execution_count": 135,
      "outputs": [
        {
          "output_type": "stream",
          "name": "stdout",
          "text": [
            "44 Chapanzeee "
          ]
        }
      ]
    },
    {
      "cell_type": "code",
      "source": [
        "class Monii(Monkey): #Inheritance (Monii from Monkey) Done\n",
        "  print(m1.name, end=\" \")"
      ],
      "metadata": {
        "colab": {
          "base_uri": "https://localhost:8080/"
        },
        "id": "oPIMuiewSYQR",
        "outputId": "fac72d84-b551-4e88-c3a6-8d9253544da0"
      },
      "execution_count": 139,
      "outputs": [
        {
          "output_type": "stream",
          "name": "stdout",
          "text": [
            "Chapanzeee "
          ]
        }
      ]
    },
    {
      "cell_type": "code",
      "source": [
        "mystr = \"UzbekistanistanAn\"\n",
        "\n",
        "for x in mystr:\n",
        "  print(x)"
      ],
      "metadata": {
        "colab": {
          "base_uri": "https://localhost:8080/"
        },
        "id": "x5wg1pw2S7YD",
        "outputId": "30a9deed-19fa-40f2-bc20-c14182069d96"
      },
      "execution_count": 141,
      "outputs": [
        {
          "output_type": "stream",
          "name": "stdout",
          "text": [
            "U\n",
            "z\n",
            "b\n",
            "e\n",
            "k\n",
            "i\n",
            "s\n",
            "t\n",
            "a\n",
            "n\n",
            "i\n",
            "s\n",
            "t\n",
            "a\n",
            "n\n",
            "A\n",
            "n\n"
          ]
        }
      ]
    },
    {
      "cell_type": "code",
      "source": [
        "List = [\"apple\", \"banana\", \"cherry\"]\n",
        "myit = iter(List)   #iteration 2nd Method\n",
        "\n",
        "print(next(myit))\n",
        "print(next(myit))\n",
        "print(next(myit))"
      ],
      "metadata": {
        "colab": {
          "base_uri": "https://localhost:8080/"
        },
        "id": "vPgkhfKIU7H0",
        "outputId": "8cfddec5-53b7-4b36-c345-4144c223b212"
      },
      "execution_count": 143,
      "outputs": [
        {
          "output_type": "stream",
          "name": "stdout",
          "text": [
            "apple\n",
            "banana\n",
            "cherry\n"
          ]
        }
      ]
    },
    {
      "cell_type": "markdown",
      "source": [
        "## **Module**"
      ],
      "metadata": {
        "id": "F1bOK7YjXCey"
      }
    },
    {
      "cell_type": "code",
      "source": [
        "from google.colab import files\n",
        "uploaded = files.upload()  # This will prompt you to upload your .py file"
      ],
      "metadata": {
        "colab": {
          "base_uri": "https://localhost:8080/",
          "height": 56
        },
        "id": "lpPqFhGiXLIC",
        "outputId": "47849415-6ac9-4654-86cc-e161ea0bbd54"
      },
      "execution_count": 151,
      "outputs": [
        {
          "output_type": "display_data",
          "data": {
            "text/plain": [
              "<IPython.core.display.HTML object>"
            ],
            "text/html": [
              "\n",
              "     <input type=\"file\" id=\"files-e7bac38b-f275-43eb-b229-946a118a302c\" name=\"files[]\" multiple disabled\n",
              "        style=\"border:none\" />\n",
              "     <output id=\"result-e7bac38b-f275-43eb-b229-946a118a302c\">\n",
              "      Upload widget is only available when the cell has been executed in the\n",
              "      current browser session. Please rerun this cell to enable.\n",
              "      </output>\n",
              "      <script>// Copyright 2017 Google LLC\n",
              "//\n",
              "// Licensed under the Apache License, Version 2.0 (the \"License\");\n",
              "// you may not use this file except in compliance with the License.\n",
              "// You may obtain a copy of the License at\n",
              "//\n",
              "//      http://www.apache.org/licenses/LICENSE-2.0\n",
              "//\n",
              "// Unless required by applicable law or agreed to in writing, software\n",
              "// distributed under the License is distributed on an \"AS IS\" BASIS,\n",
              "// WITHOUT WARRANTIES OR CONDITIONS OF ANY KIND, either express or implied.\n",
              "// See the License for the specific language governing permissions and\n",
              "// limitations under the License.\n",
              "\n",
              "/**\n",
              " * @fileoverview Helpers for google.colab Python module.\n",
              " */\n",
              "(function(scope) {\n",
              "function span(text, styleAttributes = {}) {\n",
              "  const element = document.createElement('span');\n",
              "  element.textContent = text;\n",
              "  for (const key of Object.keys(styleAttributes)) {\n",
              "    element.style[key] = styleAttributes[key];\n",
              "  }\n",
              "  return element;\n",
              "}\n",
              "\n",
              "// Max number of bytes which will be uploaded at a time.\n",
              "const MAX_PAYLOAD_SIZE = 100 * 1024;\n",
              "\n",
              "function _uploadFiles(inputId, outputId) {\n",
              "  const steps = uploadFilesStep(inputId, outputId);\n",
              "  const outputElement = document.getElementById(outputId);\n",
              "  // Cache steps on the outputElement to make it available for the next call\n",
              "  // to uploadFilesContinue from Python.\n",
              "  outputElement.steps = steps;\n",
              "\n",
              "  return _uploadFilesContinue(outputId);\n",
              "}\n",
              "\n",
              "// This is roughly an async generator (not supported in the browser yet),\n",
              "// where there are multiple asynchronous steps and the Python side is going\n",
              "// to poll for completion of each step.\n",
              "// This uses a Promise to block the python side on completion of each step,\n",
              "// then passes the result of the previous step as the input to the next step.\n",
              "function _uploadFilesContinue(outputId) {\n",
              "  const outputElement = document.getElementById(outputId);\n",
              "  const steps = outputElement.steps;\n",
              "\n",
              "  const next = steps.next(outputElement.lastPromiseValue);\n",
              "  return Promise.resolve(next.value.promise).then((value) => {\n",
              "    // Cache the last promise value to make it available to the next\n",
              "    // step of the generator.\n",
              "    outputElement.lastPromiseValue = value;\n",
              "    return next.value.response;\n",
              "  });\n",
              "}\n",
              "\n",
              "/**\n",
              " * Generator function which is called between each async step of the upload\n",
              " * process.\n",
              " * @param {string} inputId Element ID of the input file picker element.\n",
              " * @param {string} outputId Element ID of the output display.\n",
              " * @return {!Iterable<!Object>} Iterable of next steps.\n",
              " */\n",
              "function* uploadFilesStep(inputId, outputId) {\n",
              "  const inputElement = document.getElementById(inputId);\n",
              "  inputElement.disabled = false;\n",
              "\n",
              "  const outputElement = document.getElementById(outputId);\n",
              "  outputElement.innerHTML = '';\n",
              "\n",
              "  const pickedPromise = new Promise((resolve) => {\n",
              "    inputElement.addEventListener('change', (e) => {\n",
              "      resolve(e.target.files);\n",
              "    });\n",
              "  });\n",
              "\n",
              "  const cancel = document.createElement('button');\n",
              "  inputElement.parentElement.appendChild(cancel);\n",
              "  cancel.textContent = 'Cancel upload';\n",
              "  const cancelPromise = new Promise((resolve) => {\n",
              "    cancel.onclick = () => {\n",
              "      resolve(null);\n",
              "    };\n",
              "  });\n",
              "\n",
              "  // Wait for the user to pick the files.\n",
              "  const files = yield {\n",
              "    promise: Promise.race([pickedPromise, cancelPromise]),\n",
              "    response: {\n",
              "      action: 'starting',\n",
              "    }\n",
              "  };\n",
              "\n",
              "  cancel.remove();\n",
              "\n",
              "  // Disable the input element since further picks are not allowed.\n",
              "  inputElement.disabled = true;\n",
              "\n",
              "  if (!files) {\n",
              "    return {\n",
              "      response: {\n",
              "        action: 'complete',\n",
              "      }\n",
              "    };\n",
              "  }\n",
              "\n",
              "  for (const file of files) {\n",
              "    const li = document.createElement('li');\n",
              "    li.append(span(file.name, {fontWeight: 'bold'}));\n",
              "    li.append(span(\n",
              "        `(${file.type || 'n/a'}) - ${file.size} bytes, ` +\n",
              "        `last modified: ${\n",
              "            file.lastModifiedDate ? file.lastModifiedDate.toLocaleDateString() :\n",
              "                                    'n/a'} - `));\n",
              "    const percent = span('0% done');\n",
              "    li.appendChild(percent);\n",
              "\n",
              "    outputElement.appendChild(li);\n",
              "\n",
              "    const fileDataPromise = new Promise((resolve) => {\n",
              "      const reader = new FileReader();\n",
              "      reader.onload = (e) => {\n",
              "        resolve(e.target.result);\n",
              "      };\n",
              "      reader.readAsArrayBuffer(file);\n",
              "    });\n",
              "    // Wait for the data to be ready.\n",
              "    let fileData = yield {\n",
              "      promise: fileDataPromise,\n",
              "      response: {\n",
              "        action: 'continue',\n",
              "      }\n",
              "    };\n",
              "\n",
              "    // Use a chunked sending to avoid message size limits. See b/62115660.\n",
              "    let position = 0;\n",
              "    do {\n",
              "      const length = Math.min(fileData.byteLength - position, MAX_PAYLOAD_SIZE);\n",
              "      const chunk = new Uint8Array(fileData, position, length);\n",
              "      position += length;\n",
              "\n",
              "      const base64 = btoa(String.fromCharCode.apply(null, chunk));\n",
              "      yield {\n",
              "        response: {\n",
              "          action: 'append',\n",
              "          file: file.name,\n",
              "          data: base64,\n",
              "        },\n",
              "      };\n",
              "\n",
              "      let percentDone = fileData.byteLength === 0 ?\n",
              "          100 :\n",
              "          Math.round((position / fileData.byteLength) * 100);\n",
              "      percent.textContent = `${percentDone}% done`;\n",
              "\n",
              "    } while (position < fileData.byteLength);\n",
              "  }\n",
              "\n",
              "  // All done.\n",
              "  yield {\n",
              "    response: {\n",
              "      action: 'complete',\n",
              "    }\n",
              "  };\n",
              "}\n",
              "\n",
              "scope.google = scope.google || {};\n",
              "scope.google.colab = scope.google.colab || {};\n",
              "scope.google.colab._files = {\n",
              "  _uploadFiles,\n",
              "  _uploadFilesContinue,\n",
              "};\n",
              "})(self);\n",
              "</script> "
            ]
          },
          "metadata": {}
        },
        {
          "output_type": "stream",
          "name": "stdout",
          "text": [
            "Saving myX.py to myX.py\n"
          ]
        }
      ]
    },
    {
      "cell_type": "code",
      "source": [
        "#Create a Module and than Import it there Code\n",
        "import myX\n",
        "myX.greeting(\"Raja\") #Func Call from Module"
      ],
      "metadata": {
        "colab": {
          "base_uri": "https://localhost:8080/"
        },
        "id": "nJfcCtwxVvgT",
        "outputId": "2ebd9a58-11ed-438f-985f-c302bfc31a95"
      },
      "execution_count": 156,
      "outputs": [
        {
          "output_type": "stream",
          "name": "stdout",
          "text": [
            "Shahzaib, Raja\n"
          ]
        }
      ]
    },
    {
      "cell_type": "code",
      "source": [
        "#Import the Datw Time\n",
        "import datetime\n",
        "\n",
        "x = datetime.datetime.now()\n",
        "print(x)"
      ],
      "metadata": {
        "colab": {
          "base_uri": "https://localhost:8080/"
        },
        "id": "E1kSMv1cXKrn",
        "outputId": "f1920381-05d6-4121-e379-7d2a5eb8cfcf"
      },
      "execution_count": 157,
      "outputs": [
        {
          "output_type": "stream",
          "name": "stdout",
          "text": [
            "2024-09-29 10:45:25.230936\n"
          ]
        }
      ]
    },
    {
      "cell_type": "code",
      "source": [
        "#The abs() function returns the absolute (positive) value of the specified number:\n",
        "x = abs(-7.25)\n",
        "print(x)"
      ],
      "metadata": {
        "colab": {
          "base_uri": "https://localhost:8080/"
        },
        "id": "DahuzbwPYm38",
        "outputId": "f0832b07-c64a-4679-a805-cc55169b45b9"
      },
      "execution_count": 158,
      "outputs": [
        {
          "output_type": "stream",
          "name": "stdout",
          "text": [
            "7.25\n"
          ]
        }
      ]
    },
    {
      "cell_type": "code",
      "source": [
        "import math\n",
        "x = math.sqrt(64) #To Find out the SquraeRoot\n",
        "print(x)"
      ],
      "metadata": {
        "colab": {
          "base_uri": "https://localhost:8080/"
        },
        "id": "sYd7BXi1Y4Me",
        "outputId": "7f782c4f-1e88-454c-f55b-cebca4e4786e"
      },
      "execution_count": 159,
      "outputs": [
        {
          "output_type": "stream",
          "name": "stdout",
          "text": [
            "8.0\n"
          ]
        }
      ]
    },
    {
      "cell_type": "code",
      "source": [
        "#Convert JSON into Python by json.loads\n",
        "import json\n",
        "\n",
        "x =  '{ \"name\":\"John\", \"age\":30, \"city\":\"New York\"}'\n",
        "\n",
        "y = json.loads(x)\n",
        "\n",
        "print(y[\"age\"])"
      ],
      "metadata": {
        "colab": {
          "base_uri": "https://localhost:8080/"
        },
        "id": "6fGuYViSZHGz",
        "outputId": "adacbbc5-abbd-492c-bdbf-711248685679"
      },
      "execution_count": 165,
      "outputs": [
        {
          "output_type": "stream",
          "name": "stdout",
          "text": [
            "30\n"
          ]
        }
      ]
    },
    {
      "cell_type": "code",
      "source": [
        "#Convert Python into json by json.dumps\n",
        "import json\n",
        "\n",
        "x = {\n",
        "  \"name\": \"John\",\n",
        "  \"age\": 30,\n",
        "  \"city\": \"New York\"\n",
        "}\n",
        "\n",
        "y = json.dumps(x)\n",
        "\n",
        "print(y)"
      ],
      "metadata": {
        "colab": {
          "base_uri": "https://localhost:8080/"
        },
        "id": "aZUM7khOZdN3",
        "outputId": "f27bebb0-09f6-4aaa-848c-ed288802ad4d"
      },
      "execution_count": 166,
      "outputs": [
        {
          "output_type": "stream",
          "name": "stdout",
          "text": [
            "{\"name\": \"John\", \"age\": 30, \"city\": \"New York\"}\n"
          ]
        }
      ]
    },
    {
      "cell_type": "markdown",
      "source": [
        "## **Regex** Expressions"
      ],
      "metadata": {
        "id": "kMtUxPzCaOow"
      }
    },
    {
      "cell_type": "code",
      "source": [
        "import re\n",
        "\n",
        "txt = \"The rain in Spain\"\n",
        "x = re.search(\"^The.*Spain$\", txt)"
      ],
      "metadata": {
        "id": "aiRcGDVjZjrG"
      },
      "execution_count": 172,
      "outputs": []
    },
    {
      "cell_type": "code",
      "source": [
        "import re\n",
        "\n",
        "txt = \"The rain in Spain\"\n",
        "x = re.findall(\"ai\", txt)\n",
        "print(x)"
      ],
      "metadata": {
        "colab": {
          "base_uri": "https://localhost:8080/"
        },
        "id": "WhIXyXG_akzN",
        "outputId": "64651dbd-4071-494b-bab4-944ce1906dd6"
      },
      "execution_count": 177,
      "outputs": [
        {
          "output_type": "stream",
          "name": "stdout",
          "text": [
            "['ai', 'ai']\n"
          ]
        }
      ]
    },
    {
      "cell_type": "code",
      "source": [
        "import re\n",
        "\n",
        "typee = \"Hello Buddy Who are You\"\n",
        "XX = re.search(\"\\s\",typee)\n",
        "print(XX)"
      ],
      "metadata": {
        "colab": {
          "base_uri": "https://localhost:8080/"
        },
        "id": "fhQuLgKubBxp",
        "outputId": "f0f4161c-87f0-47d9-fdd2-08500469d9fe"
      },
      "execution_count": 179,
      "outputs": [
        {
          "output_type": "stream",
          "name": "stdout",
          "text": [
            "<re.Match object; span=(5, 6), match=' '>\n"
          ]
        }
      ]
    },
    {
      "cell_type": "code",
      "source": [
        "#Pip Used for Python Pakages and Modules\n",
        "# pip install ABC"
      ],
      "metadata": {
        "id": "r35dJu_0bxI_"
      },
      "execution_count": 181,
      "outputs": []
    },
    {
      "cell_type": "code",
      "source": [],
      "metadata": {
        "id": "DKWzsMoccb8Z"
      },
      "execution_count": null,
      "outputs": []
    },
    {
      "cell_type": "markdown",
      "source": [
        "## **try/except/elese/finally**"
      ],
      "metadata": {
        "id": "bLFs-NhxcftG"
      }
    },
    {
      "cell_type": "code",
      "source": [
        "#Try this otherwise Show Except Massage\n",
        "# xti = 55359349509345\n",
        "\n",
        "try:\n",
        "  print(xti)\n",
        "except:\n",
        "  print(xtt)\n",
        "else:\n",
        "  print(\"Ohoo Sorry 404 Error 🤔\")"
      ],
      "metadata": {
        "colab": {
          "base_uri": "https://localhost:8080/"
        },
        "id": "hRsW0s2fcsFe",
        "outputId": "936d2948-fd0a-4342-ec4f-dcb026eae10c"
      },
      "execution_count": 192,
      "outputs": [
        {
          "output_type": "stream",
          "name": "stdout",
          "text": [
            "55\n"
          ]
        }
      ]
    },
    {
      "cell_type": "code",
      "source": [
        "try:\n",
        "  print(x)\n",
        "except:\n",
        "  print(\"Something went wrong\")\n",
        "finally:\n",
        "  print(\"The 'try except' is finished\")"
      ],
      "metadata": {
        "colab": {
          "base_uri": "https://localhost:8080/"
        },
        "id": "olcn_FwYdBE-",
        "outputId": "8f384527-f9a0-411e-b395-5b4ccde81f0f"
      },
      "execution_count": 193,
      "outputs": [
        {
          "output_type": "stream",
          "name": "stdout",
          "text": [
            "['ai', 'ai']\n",
            "The 'try except' is finished\n"
          ]
        }
      ]
    },
    {
      "cell_type": "code",
      "source": [
        "#Inputs\n",
        "XX = (input(\"Tell me Your Name: \")) #String\n",
        "XXC = int(input(\"Tell me Your Age: \")) #Integer\n",
        "\n",
        "\n",
        "print(f\"{XX} Age is {XXC}\") #F Strings"
      ],
      "metadata": {
        "colab": {
          "base_uri": "https://localhost:8080/"
        },
        "id": "SdEMkxd9dyjH",
        "outputId": "cc69ae73-f86e-4cf9-fe34-417e5f9961fe"
      },
      "execution_count": 201,
      "outputs": [
        {
          "output_type": "stream",
          "name": "stdout",
          "text": [
            "Tell me Your Name: Ali\n",
            "Tell me Your Age: 99\n",
            "Ali Age is 99\n"
          ]
        }
      ]
    },
    {
      "cell_type": "code",
      "source": [],
      "metadata": {
        "id": "6rP01ZBegchA"
      },
      "execution_count": null,
      "outputs": []
    },
    {
      "cell_type": "markdown",
      "source": [
        "## **File** **Handling**"
      ],
      "metadata": {
        "id": "YaF_CZTnhzBd"
      }
    },
    {
      "cell_type": "code",
      "source": [
        "from google.colab import files\n",
        "uploaded = files.upload()"
      ],
      "metadata": {
        "colab": {
          "base_uri": "https://localhost:8080/",
          "height": 73
        },
        "id": "HowY3HVojMYl",
        "outputId": "382f709f-acb5-4185-d920-7d20bb00931e"
      },
      "execution_count": 206,
      "outputs": [
        {
          "output_type": "display_data",
          "data": {
            "text/plain": [
              "<IPython.core.display.HTML object>"
            ],
            "text/html": [
              "\n",
              "     <input type=\"file\" id=\"files-1132fc61-ce9f-485a-8f1e-a896e1f97d7b\" name=\"files[]\" multiple disabled\n",
              "        style=\"border:none\" />\n",
              "     <output id=\"result-1132fc61-ce9f-485a-8f1e-a896e1f97d7b\">\n",
              "      Upload widget is only available when the cell has been executed in the\n",
              "      current browser session. Please rerun this cell to enable.\n",
              "      </output>\n",
              "      <script>// Copyright 2017 Google LLC\n",
              "//\n",
              "// Licensed under the Apache License, Version 2.0 (the \"License\");\n",
              "// you may not use this file except in compliance with the License.\n",
              "// You may obtain a copy of the License at\n",
              "//\n",
              "//      http://www.apache.org/licenses/LICENSE-2.0\n",
              "//\n",
              "// Unless required by applicable law or agreed to in writing, software\n",
              "// distributed under the License is distributed on an \"AS IS\" BASIS,\n",
              "// WITHOUT WARRANTIES OR CONDITIONS OF ANY KIND, either express or implied.\n",
              "// See the License for the specific language governing permissions and\n",
              "// limitations under the License.\n",
              "\n",
              "/**\n",
              " * @fileoverview Helpers for google.colab Python module.\n",
              " */\n",
              "(function(scope) {\n",
              "function span(text, styleAttributes = {}) {\n",
              "  const element = document.createElement('span');\n",
              "  element.textContent = text;\n",
              "  for (const key of Object.keys(styleAttributes)) {\n",
              "    element.style[key] = styleAttributes[key];\n",
              "  }\n",
              "  return element;\n",
              "}\n",
              "\n",
              "// Max number of bytes which will be uploaded at a time.\n",
              "const MAX_PAYLOAD_SIZE = 100 * 1024;\n",
              "\n",
              "function _uploadFiles(inputId, outputId) {\n",
              "  const steps = uploadFilesStep(inputId, outputId);\n",
              "  const outputElement = document.getElementById(outputId);\n",
              "  // Cache steps on the outputElement to make it available for the next call\n",
              "  // to uploadFilesContinue from Python.\n",
              "  outputElement.steps = steps;\n",
              "\n",
              "  return _uploadFilesContinue(outputId);\n",
              "}\n",
              "\n",
              "// This is roughly an async generator (not supported in the browser yet),\n",
              "// where there are multiple asynchronous steps and the Python side is going\n",
              "// to poll for completion of each step.\n",
              "// This uses a Promise to block the python side on completion of each step,\n",
              "// then passes the result of the previous step as the input to the next step.\n",
              "function _uploadFilesContinue(outputId) {\n",
              "  const outputElement = document.getElementById(outputId);\n",
              "  const steps = outputElement.steps;\n",
              "\n",
              "  const next = steps.next(outputElement.lastPromiseValue);\n",
              "  return Promise.resolve(next.value.promise).then((value) => {\n",
              "    // Cache the last promise value to make it available to the next\n",
              "    // step of the generator.\n",
              "    outputElement.lastPromiseValue = value;\n",
              "    return next.value.response;\n",
              "  });\n",
              "}\n",
              "\n",
              "/**\n",
              " * Generator function which is called between each async step of the upload\n",
              " * process.\n",
              " * @param {string} inputId Element ID of the input file picker element.\n",
              " * @param {string} outputId Element ID of the output display.\n",
              " * @return {!Iterable<!Object>} Iterable of next steps.\n",
              " */\n",
              "function* uploadFilesStep(inputId, outputId) {\n",
              "  const inputElement = document.getElementById(inputId);\n",
              "  inputElement.disabled = false;\n",
              "\n",
              "  const outputElement = document.getElementById(outputId);\n",
              "  outputElement.innerHTML = '';\n",
              "\n",
              "  const pickedPromise = new Promise((resolve) => {\n",
              "    inputElement.addEventListener('change', (e) => {\n",
              "      resolve(e.target.files);\n",
              "    });\n",
              "  });\n",
              "\n",
              "  const cancel = document.createElement('button');\n",
              "  inputElement.parentElement.appendChild(cancel);\n",
              "  cancel.textContent = 'Cancel upload';\n",
              "  const cancelPromise = new Promise((resolve) => {\n",
              "    cancel.onclick = () => {\n",
              "      resolve(null);\n",
              "    };\n",
              "  });\n",
              "\n",
              "  // Wait for the user to pick the files.\n",
              "  const files = yield {\n",
              "    promise: Promise.race([pickedPromise, cancelPromise]),\n",
              "    response: {\n",
              "      action: 'starting',\n",
              "    }\n",
              "  };\n",
              "\n",
              "  cancel.remove();\n",
              "\n",
              "  // Disable the input element since further picks are not allowed.\n",
              "  inputElement.disabled = true;\n",
              "\n",
              "  if (!files) {\n",
              "    return {\n",
              "      response: {\n",
              "        action: 'complete',\n",
              "      }\n",
              "    };\n",
              "  }\n",
              "\n",
              "  for (const file of files) {\n",
              "    const li = document.createElement('li');\n",
              "    li.append(span(file.name, {fontWeight: 'bold'}));\n",
              "    li.append(span(\n",
              "        `(${file.type || 'n/a'}) - ${file.size} bytes, ` +\n",
              "        `last modified: ${\n",
              "            file.lastModifiedDate ? file.lastModifiedDate.toLocaleDateString() :\n",
              "                                    'n/a'} - `));\n",
              "    const percent = span('0% done');\n",
              "    li.appendChild(percent);\n",
              "\n",
              "    outputElement.appendChild(li);\n",
              "\n",
              "    const fileDataPromise = new Promise((resolve) => {\n",
              "      const reader = new FileReader();\n",
              "      reader.onload = (e) => {\n",
              "        resolve(e.target.result);\n",
              "      };\n",
              "      reader.readAsArrayBuffer(file);\n",
              "    });\n",
              "    // Wait for the data to be ready.\n",
              "    let fileData = yield {\n",
              "      promise: fileDataPromise,\n",
              "      response: {\n",
              "        action: 'continue',\n",
              "      }\n",
              "    };\n",
              "\n",
              "    // Use a chunked sending to avoid message size limits. See b/62115660.\n",
              "    let position = 0;\n",
              "    do {\n",
              "      const length = Math.min(fileData.byteLength - position, MAX_PAYLOAD_SIZE);\n",
              "      const chunk = new Uint8Array(fileData, position, length);\n",
              "      position += length;\n",
              "\n",
              "      const base64 = btoa(String.fromCharCode.apply(null, chunk));\n",
              "      yield {\n",
              "        response: {\n",
              "          action: 'append',\n",
              "          file: file.name,\n",
              "          data: base64,\n",
              "        },\n",
              "      };\n",
              "\n",
              "      let percentDone = fileData.byteLength === 0 ?\n",
              "          100 :\n",
              "          Math.round((position / fileData.byteLength) * 100);\n",
              "      percent.textContent = `${percentDone}% done`;\n",
              "\n",
              "    } while (position < fileData.byteLength);\n",
              "  }\n",
              "\n",
              "  // All done.\n",
              "  yield {\n",
              "    response: {\n",
              "      action: 'complete',\n",
              "    }\n",
              "  };\n",
              "}\n",
              "\n",
              "scope.google = scope.google || {};\n",
              "scope.google.colab = scope.google.colab || {};\n",
              "scope.google.colab._files = {\n",
              "  _uploadFiles,\n",
              "  _uploadFilesContinue,\n",
              "};\n",
              "})(self);\n",
              "</script> "
            ]
          },
          "metadata": {}
        },
        {
          "output_type": "stream",
          "name": "stdout",
          "text": [
            "Saving Dummy.txt to Dummy.txt\n"
          ]
        }
      ]
    },
    {
      "cell_type": "code",
      "source": [
        "# f = open(\"Dummy.txt\")           #Open the File\n",
        "f = open(\"Dummy.txt\", \"rt\") # r for Read & t for Text File not Binary"
      ],
      "metadata": {
        "id": "fcrL4nk9h3WD"
      },
      "execution_count": 223,
      "outputs": []
    },
    {
      "cell_type": "code",
      "source": [
        "print(f.read())   #Read the Files\n",
        "print(f.read(43))   #Read Part of the Files"
      ],
      "metadata": {
        "colab": {
          "base_uri": "https://localhost:8080/"
        },
        "id": "WsuEzIahiM5q",
        "outputId": "f5098e9c-df81-4cf5-f730-e879ed740b9a"
      },
      "execution_count": 224,
      "outputs": [
        {
          "output_type": "stream",
          "name": "stdout",
          "text": [
            "Trees are one of the most vital components of our ecosystem, providing oxygen and supporting life on Earth. They stand tall and proud, their leafy canopies a vibrant spectacle of green. With their sturdy trunks and sprawling roots, trees serve as habitats for countless species of animals and insects. Not only do they offer shade and shelter, but they also play a crucial role in regulating the climate and preserving soil quality. From majestic oaks to towering pines, trees are a testament to natures resilience and beauty.\n",
            "\n"
          ]
        }
      ]
    },
    {
      "cell_type": "code",
      "source": [
        "print(f.readline())   #Readline\n",
        "print(f.readline())   #Readline\n",
        "print(f.readline())   #Readline\n",
        "print(f.readline())   #Readline"
      ],
      "metadata": {
        "colab": {
          "base_uri": "https://localhost:8080/"
        },
        "id": "HBCl8mbrj0mc",
        "outputId": "0227c4c7-676d-4506-f093-5223fe1121e2"
      },
      "execution_count": 227,
      "outputs": [
        {
          "output_type": "stream",
          "name": "stdout",
          "text": [
            "\n",
            "\n",
            "\n",
            "\n"
          ]
        }
      ]
    },
    {
      "cell_type": "code",
      "source": [
        "f = open(\"Dummy.txt\", \"rt\")\n",
        "for i in f:\n",
        "  print(i)\n",
        "\n",
        "\n",
        "f.close()"
      ],
      "metadata": {
        "colab": {
          "base_uri": "https://localhost:8080/"
        },
        "id": "bjJeW9VVkfDq",
        "outputId": "1077fccf-ba08-49e4-a1ec-0d5479e32621"
      },
      "execution_count": 230,
      "outputs": [
        {
          "output_type": "stream",
          "name": "stdout",
          "text": [
            "Trees are one of the most vital components of our ecosystem, providing oxygen and supporting life on Earth. They stand tall and proud, their leafy canopies a vibrant spectacle of green. With their sturdy trunks and sprawling roots, trees serve as habitats for countless species of animals and insects. Not only do they offer shade and shelter, but they also play a crucial role in regulating the climate and preserving soil quality. From majestic oaks to towering pines, trees are a testament to natures resilience and beauty.\n"
          ]
        }
      ]
    },
    {
      "cell_type": "code",
      "source": [
        "f = open(\"Dummy.txt\" , \"w\")\n",
        "f.write(\" 😉 Great! This all about Tree You Read\")\n",
        "f.close()\n",
        "\n",
        "f = open(\"Dummy.txt\" , \"r\")\n",
        "print(f.read())"
      ],
      "metadata": {
        "colab": {
          "base_uri": "https://localhost:8080/"
        },
        "id": "ME5Q8yLdk0LJ",
        "outputId": "e6b52780-baad-469f-eaf4-d20ac4df1310"
      },
      "execution_count": 237,
      "outputs": [
        {
          "output_type": "stream",
          "name": "stdout",
          "text": [
            " 😉 Great! This all about Tree You Read\n"
          ]
        }
      ]
    },
    {
      "cell_type": "code",
      "source": [
        "#To Create a File\n",
        "# f = open(\"Newfile.txt\", \"x\")\n",
        "# f = open(\"Newfile.txt\", \"w\")\n",
        "# f.write(\"Hello Shahheerrere\")\n",
        "f = open(\"Newfile.txt\", \"r\")\n",
        "print(f.read())"
      ],
      "metadata": {
        "id": "A9foKV81mCcx"
      },
      "execution_count": 257,
      "outputs": []
    },
    {
      "cell_type": "code",
      "source": [
        "import os\n",
        "os.remove(\"Newfile.txt\")\n",
        "print(\"Sucessfully Deleted\")"
      ],
      "metadata": {
        "colab": {
          "base_uri": "https://localhost:8080/"
        },
        "id": "tUMLu-gboXGu",
        "outputId": "c370f7d5-2f83-4699-e8a9-093098f62603"
      },
      "execution_count": 258,
      "outputs": [
        {
          "output_type": "stream",
          "name": "stdout",
          "text": [
            "Sucessfully Deleted\n"
          ]
        }
      ]
    },
    {
      "cell_type": "code",
      "source": [
        "#Checks File Exists or Not\n",
        "import os\n",
        "\n",
        "if os.path.exists(\"Dummy.txt\"):\n",
        "  print(\"Found\")"
      ],
      "metadata": {
        "colab": {
          "base_uri": "https://localhost:8080/"
        },
        "id": "iuNb7JvJoiJi",
        "outputId": "e17d4505-0291-462f-dcdb-f74739e61e1f"
      },
      "execution_count": 263,
      "outputs": [
        {
          "output_type": "stream",
          "name": "stdout",
          "text": [
            "Found\n"
          ]
        }
      ]
    },
    {
      "cell_type": "code",
      "source": [],
      "metadata": {
        "id": "FDT5dJYuqjyE"
      },
      "execution_count": null,
      "outputs": []
    }
  ]
}